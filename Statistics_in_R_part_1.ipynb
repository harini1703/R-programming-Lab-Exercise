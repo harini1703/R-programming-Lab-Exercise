{
  "nbformat": 4,
  "nbformat_minor": 0,
  "metadata": {
    "colab": {
      "name": " Statistics in R -part 1",
      "provenance": [],
      "collapsed_sections": [],
      "authorship_tag": "ABX9TyP5R1tmkgYVrgV1Ix2M/eWn",
      "include_colab_link": true
    },
    "kernelspec": {
      "name": "python3",
      "display_name": "Python 3"
    },
    "language_info": {
      "name": "python"
    }
  },
  "cells": [
    {
      "cell_type": "markdown",
      "metadata": {
        "id": "view-in-github",
        "colab_type": "text"
      },
      "source": [
        "<a href=\"https://colab.research.google.com/github/harini1703/R-programming-Lab-Exercise/blob/main/Statistics_in_R_part_1.ipynb\" target=\"_parent\"><img src=\"https://colab.research.google.com/assets/colab-badge.svg\" alt=\"Open In Colab\"/></a>"
      ]
    },
    {
      "cell_type": "code",
      "execution_count": 2,
      "metadata": {
        "id": "bnEo6GA7QoaH",
        "colab": {
          "base_uri": "https://localhost:8080/"
        },
        "outputId": "058d2194-9523-4fcb-c1ff-e47be0e7ac79"
      },
      "outputs": [
        {
          "output_type": "stream",
          "name": "stdout",
          "text": [
            "The rpy2.ipython extension is already loaded. To reload it, use:\n",
            "  %reload_ext rpy2.ipython\n"
          ]
        }
      ],
      "source": [
        "%load_ext rpy2.ipython"
      ]
    },
    {
      "cell_type": "code",
      "source": [
        "%%R\n",
        "data1=mtcars\n",
        "print(data1)"
      ],
      "metadata": {
        "id": "fPaoZ_olRN31",
        "colab": {
          "base_uri": "https://localhost:8080/"
        },
        "outputId": "31c50791-b369-49b2-8ad6-7f8101d1c96d"
      },
      "execution_count": 40,
      "outputs": [
        {
          "output_type": "stream",
          "name": "stdout",
          "text": [
            "                     mpg cyl  disp  hp drat    wt  qsec vs am gear carb\n",
            "Mazda RX4           21.0   6 160.0 110 3.90 2.620 16.46  0  1    4    4\n",
            "Mazda RX4 Wag       21.0   6 160.0 110 3.90 2.875 17.02  0  1    4    4\n",
            "Datsun 710          22.8   4 108.0  93 3.85 2.320 18.61  1  1    4    1\n",
            "Hornet 4 Drive      21.4   6 258.0 110 3.08 3.215 19.44  1  0    3    1\n",
            "Hornet Sportabout   18.7   8 360.0 175 3.15 3.440 17.02  0  0    3    2\n",
            "Valiant             18.1   6 225.0 105 2.76 3.460 20.22  1  0    3    1\n",
            "Duster 360          14.3   8 360.0 245 3.21 3.570 15.84  0  0    3    4\n",
            "Merc 240D           24.4   4 146.7  62 3.69 3.190 20.00  1  0    4    2\n",
            "Merc 230            22.8   4 140.8  95 3.92 3.150 22.90  1  0    4    2\n",
            "Merc 280            19.2   6 167.6 123 3.92 3.440 18.30  1  0    4    4\n",
            "Merc 280C           17.8   6 167.6 123 3.92 3.440 18.90  1  0    4    4\n",
            "Merc 450SE          16.4   8 275.8 180 3.07 4.070 17.40  0  0    3    3\n",
            "Merc 450SL          17.3   8 275.8 180 3.07 3.730 17.60  0  0    3    3\n",
            "Merc 450SLC         15.2   8 275.8 180 3.07 3.780 18.00  0  0    3    3\n",
            "Cadillac Fleetwood  10.4   8 472.0 205 2.93 5.250 17.98  0  0    3    4\n",
            "Lincoln Continental 10.4   8 460.0 215 3.00 5.424 17.82  0  0    3    4\n",
            "Chrysler Imperial   14.7   8 440.0 230 3.23 5.345 17.42  0  0    3    4\n",
            "Fiat 128            32.4   4  78.7  66 4.08 2.200 19.47  1  1    4    1\n",
            "Honda Civic         30.4   4  75.7  52 4.93 1.615 18.52  1  1    4    2\n",
            "Toyota Corolla      33.9   4  71.1  65 4.22 1.835 19.90  1  1    4    1\n",
            "Toyota Corona       21.5   4 120.1  97 3.70 2.465 20.01  1  0    3    1\n",
            "Dodge Challenger    15.5   8 318.0 150 2.76 3.520 16.87  0  0    3    2\n",
            "AMC Javelin         15.2   8 304.0 150 3.15 3.435 17.30  0  0    3    2\n",
            "Camaro Z28          13.3   8 350.0 245 3.73 3.840 15.41  0  0    3    4\n",
            "Pontiac Firebird    19.2   8 400.0 175 3.08 3.845 17.05  0  0    3    2\n",
            "Fiat X1-9           27.3   4  79.0  66 4.08 1.935 18.90  1  1    4    1\n",
            "Porsche 914-2       26.0   4 120.3  91 4.43 2.140 16.70  0  1    5    2\n",
            "Lotus Europa        30.4   4  95.1 113 3.77 1.513 16.90  1  1    5    2\n",
            "Ford Pantera L      15.8   8 351.0 264 4.22 3.170 14.50  0  1    5    4\n",
            "Ferrari Dino        19.7   6 145.0 175 3.62 2.770 15.50  0  1    5    6\n",
            "Maserati Bora       15.0   8 301.0 335 3.54 3.570 14.60  0  1    5    8\n",
            "Volvo 142E          21.4   4 121.0 109 4.11 2.780 18.60  1  1    4    2\n"
          ]
        }
      ]
    },
    {
      "cell_type": "code",
      "source": [
        "%%R\n",
        "summary(data1)"
      ],
      "metadata": {
        "colab": {
          "base_uri": "https://localhost:8080/"
        },
        "id": "kve-sYZThkdE",
        "outputId": "7c7b2a3e-4e63-414b-df68-19476c3a96ac"
      },
      "execution_count": 4,
      "outputs": [
        {
          "output_type": "stream",
          "name": "stdout",
          "text": [
            "      mpg             cyl             disp             hp       \n",
            " Min.   :10.40   Min.   :4.000   Min.   : 71.1   Min.   : 52.0  \n",
            " 1st Qu.:15.43   1st Qu.:4.000   1st Qu.:120.8   1st Qu.: 96.5  \n",
            " Median :19.20   Median :6.000   Median :196.3   Median :123.0  \n",
            " Mean   :20.09   Mean   :6.188   Mean   :230.7   Mean   :146.7  \n",
            " 3rd Qu.:22.80   3rd Qu.:8.000   3rd Qu.:326.0   3rd Qu.:180.0  \n",
            " Max.   :33.90   Max.   :8.000   Max.   :472.0   Max.   :335.0  \n",
            "      drat             wt             qsec             vs        \n",
            " Min.   :2.760   Min.   :1.513   Min.   :14.50   Min.   :0.0000  \n",
            " 1st Qu.:3.080   1st Qu.:2.581   1st Qu.:16.89   1st Qu.:0.0000  \n",
            " Median :3.695   Median :3.325   Median :17.71   Median :0.0000  \n",
            " Mean   :3.597   Mean   :3.217   Mean   :17.85   Mean   :0.4375  \n",
            " 3rd Qu.:3.920   3rd Qu.:3.610   3rd Qu.:18.90   3rd Qu.:1.0000  \n",
            " Max.   :4.930   Max.   :5.424   Max.   :22.90   Max.   :1.0000  \n",
            "       am              gear            carb      \n",
            " Min.   :0.0000   Min.   :3.000   Min.   :1.000  \n",
            " 1st Qu.:0.0000   1st Qu.:3.000   1st Qu.:2.000  \n",
            " Median :0.0000   Median :4.000   Median :2.000  \n",
            " Mean   :0.4062   Mean   :3.688   Mean   :2.812  \n",
            " 3rd Qu.:1.0000   3rd Qu.:4.000   3rd Qu.:4.000  \n",
            " Max.   :1.0000   Max.   :5.000   Max.   :8.000  \n"
          ]
        }
      ]
    },
    {
      "cell_type": "code",
      "source": [
        "%%R\n",
        "summary(data1$mpg)"
      ],
      "metadata": {
        "colab": {
          "base_uri": "https://localhost:8080/"
        },
        "id": "U58D7NTOiOFn",
        "outputId": "233f6fa4-0dc0-4753-dc9e-6540db50df79"
      },
      "execution_count": 6,
      "outputs": [
        {
          "output_type": "stream",
          "name": "stdout",
          "text": [
            "   Min. 1st Qu.  Median    Mean 3rd Qu.    Max. \n",
            "  10.40   15.43   19.20   20.09   22.80   33.90 \n"
          ]
        }
      ]
    },
    {
      "cell_type": "code",
      "source": [
        "%%R\n",
        "summary(data1$cyl)"
      ],
      "metadata": {
        "colab": {
          "base_uri": "https://localhost:8080/"
        },
        "id": "i3IjADUojoEC",
        "outputId": "c5dc8b19-13b5-41f6-fa30-52120cf5de9e"
      },
      "execution_count": 7,
      "outputs": [
        {
          "output_type": "stream",
          "name": "stdout",
          "text": [
            "   Min. 1st Qu.  Median    Mean 3rd Qu.    Max. \n",
            "  4.000   4.000   6.000   6.188   8.000   8.000 \n"
          ]
        }
      ]
    },
    {
      "cell_type": "code",
      "source": [
        "%%R\n",
        "summary(data1$disp)"
      ],
      "metadata": {
        "colab": {
          "base_uri": "https://localhost:8080/"
        },
        "id": "xd_TdNDvkhjN",
        "outputId": "594554cf-85ef-4f01-cd16-1668106c5795"
      },
      "execution_count": 10,
      "outputs": [
        {
          "output_type": "stream",
          "name": "stdout",
          "text": [
            "   Min. 1st Qu.  Median    Mean 3rd Qu.    Max. \n",
            "   71.1   120.8   196.3   230.7   326.0   472.0 \n"
          ]
        }
      ]
    },
    {
      "cell_type": "code",
      "source": [
        "%%R\n",
        "str(data1)"
      ],
      "metadata": {
        "colab": {
          "base_uri": "https://localhost:8080/"
        },
        "id": "FeT3jYUpkvp5",
        "outputId": "28429ba1-8098-4db0-833a-f1faf40aac9e"
      },
      "execution_count": 11,
      "outputs": [
        {
          "output_type": "stream",
          "name": "stdout",
          "text": [
            "'data.frame':\t32 obs. of  11 variables:\n",
            " $ mpg : num  21 21 22.8 21.4 18.7 18.1 14.3 24.4 22.8 19.2 ...\n",
            " $ cyl : num  6 6 4 6 8 6 8 4 4 6 ...\n",
            " $ disp: num  160 160 108 258 360 ...\n",
            " $ hp  : num  110 110 93 110 175 105 245 62 95 123 ...\n",
            " $ drat: num  3.9 3.9 3.85 3.08 3.15 2.76 3.21 3.69 3.92 3.92 ...\n",
            " $ wt  : num  2.62 2.88 2.32 3.21 3.44 ...\n",
            " $ qsec: num  16.5 17 18.6 19.4 17 ...\n",
            " $ vs  : num  0 0 1 1 0 1 0 1 1 1 ...\n",
            " $ am  : num  1 1 1 0 0 0 0 0 0 0 ...\n",
            " $ gear: num  4 4 4 3 3 3 3 4 4 4 ...\n",
            " $ carb: num  4 4 1 1 2 1 4 2 2 4 ...\n"
          ]
        }
      ]
    },
    {
      "cell_type": "code",
      "source": [
        "%%R \n",
        "str(data1$mpg)"
      ],
      "metadata": {
        "colab": {
          "base_uri": "https://localhost:8080/"
        },
        "id": "dj_mu5svl5rW",
        "outputId": "2b8239fe-4932-4a21-e4bb-465eb71e897e"
      },
      "execution_count": 12,
      "outputs": [
        {
          "output_type": "stream",
          "name": "stdout",
          "text": [
            " num [1:32] 21 21 22.8 21.4 18.7 18.1 14.3 24.4 22.8 19.2 ...\n"
          ]
        }
      ]
    },
    {
      "cell_type": "code",
      "source": [
        "%%R\n",
        "str(data1$drat)"
      ],
      "metadata": {
        "colab": {
          "base_uri": "https://localhost:8080/"
        },
        "id": "ukFVbQr_mBbD",
        "outputId": "ba5ae785-2bde-4262-ce18-e00c014e26c7"
      },
      "execution_count": 15,
      "outputs": [
        {
          "output_type": "stream",
          "name": "stdout",
          "text": [
            " num [1:32] 3.9 3.9 3.85 3.08 3.15 2.76 3.21 3.69 3.92 3.92 ...\n"
          ]
        }
      ]
    },
    {
      "cell_type": "code",
      "source": [
        "%%R\n",
        "str(data1$carb)"
      ],
      "metadata": {
        "colab": {
          "base_uri": "https://localhost:8080/"
        },
        "id": "yxKG-cGomKCO",
        "outputId": "264348a7-25ec-4b1f-96b6-743d43614523"
      },
      "execution_count": 16,
      "outputs": [
        {
          "output_type": "stream",
          "name": "stdout",
          "text": [
            " num [1:32] 4 4 1 1 2 1 4 2 2 4 ...\n"
          ]
        }
      ]
    },
    {
      "cell_type": "code",
      "source": [
        "%%R\n",
        "quantile(data1$qsec)\n"
      ],
      "metadata": {
        "colab": {
          "base_uri": "https://localhost:8080/"
        },
        "id": "lgaoTsO9nLs6",
        "outputId": "31189050-7c02-451d-a9f2-72c0d2c46ace"
      },
      "execution_count": 20,
      "outputs": [
        {
          "output_type": "stream",
          "name": "stdout",
          "text": [
            "     0%     25%     50%     75%    100% \n",
            "14.5000 16.8925 17.7100 18.9000 22.9000 \n"
          ]
        }
      ]
    },
    {
      "cell_type": "code",
      "source": [
        "%%R\n",
        "quantile(data1$vs)"
      ],
      "metadata": {
        "colab": {
          "base_uri": "https://localhost:8080/"
        },
        "id": "30w_YWWBqo1f",
        "outputId": "20f6f3e2-d671-469c-cab1-1699cea0006d"
      },
      "execution_count": 21,
      "outputs": [
        {
          "output_type": "stream",
          "name": "stdout",
          "text": [
            "  0%  25%  50%  75% 100% \n",
            "   0    0    0    1    1 \n"
          ]
        }
      ]
    },
    {
      "cell_type": "code",
      "source": [
        "%%R\n",
        "quantile(data1$am)"
      ],
      "metadata": {
        "colab": {
          "base_uri": "https://localhost:8080/"
        },
        "id": "09SbD7bTq2Su",
        "outputId": "bc639dde-d0b2-4d2c-923a-29b55c1adcd8"
      },
      "execution_count": 22,
      "outputs": [
        {
          "output_type": "stream",
          "name": "stdout",
          "text": [
            "  0%  25%  50%  75% 100% \n",
            "   0    0    0    1    1 \n"
          ]
        }
      ]
    },
    {
      "cell_type": "code",
      "source": [
        "%%R\n",
        "quantile(data1$hp)"
      ],
      "metadata": {
        "colab": {
          "base_uri": "https://localhost:8080/"
        },
        "id": "dhBGvepoq7Ns",
        "outputId": "e0616d50-ab6d-4c8b-dd70-d51a5af720de"
      },
      "execution_count": 24,
      "outputs": [
        {
          "output_type": "stream",
          "name": "stdout",
          "text": [
            "   0%   25%   50%   75%  100% \n",
            " 52.0  96.5 123.0 180.0 335.0 \n"
          ]
        }
      ]
    },
    {
      "cell_type": "markdown",
      "source": [
        "## USING CARS DATASET:"
      ],
      "metadata": {
        "id": "KUH_eE2IrROm"
      }
    },
    {
      "cell_type": "code",
      "source": [
        "%%R\n",
        "data2=cars\n",
        "print(data2)"
      ],
      "metadata": {
        "colab": {
          "base_uri": "https://localhost:8080/"
        },
        "id": "AXPPfSx7rF50",
        "outputId": "28a7454f-958c-46f9-84e0-740a734caa22"
      },
      "execution_count": 39,
      "outputs": [
        {
          "output_type": "stream",
          "name": "stdout",
          "text": [
            "   speed dist\n",
            "1      4    2\n",
            "2      4   10\n",
            "3      7    4\n",
            "4      7   22\n",
            "5      8   16\n",
            "6      9   10\n",
            "7     10   18\n",
            "8     10   26\n",
            "9     10   34\n",
            "10    11   17\n",
            "11    11   28\n",
            "12    12   14\n",
            "13    12   20\n",
            "14    12   24\n",
            "15    12   28\n",
            "16    13   26\n",
            "17    13   34\n",
            "18    13   34\n",
            "19    13   46\n",
            "20    14   26\n",
            "21    14   36\n",
            "22    14   60\n",
            "23    14   80\n",
            "24    15   20\n",
            "25    15   26\n",
            "26    15   54\n",
            "27    16   32\n",
            "28    16   40\n",
            "29    17   32\n",
            "30    17   40\n",
            "31    17   50\n",
            "32    18   42\n",
            "33    18   56\n",
            "34    18   76\n",
            "35    18   84\n",
            "36    19   36\n",
            "37    19   46\n",
            "38    19   68\n",
            "39    20   32\n",
            "40    20   48\n",
            "41    20   52\n",
            "42    20   56\n",
            "43    20   64\n",
            "44    22   66\n",
            "45    23   54\n",
            "46    24   70\n",
            "47    24   92\n",
            "48    24   93\n",
            "49    24  120\n",
            "50    25   85\n"
          ]
        }
      ]
    },
    {
      "cell_type": "code",
      "source": [
        "%%R\n",
        "summary(data2)"
      ],
      "metadata": {
        "colab": {
          "base_uri": "https://localhost:8080/"
        },
        "id": "92zS7mM6rZuh",
        "outputId": "e5d90515-e09a-4cfa-8cc6-4c73b954e7e1"
      },
      "execution_count": 30,
      "outputs": [
        {
          "output_type": "stream",
          "name": "stdout",
          "text": [
            "     speed           dist       \n",
            " Min.   : 4.0   Min.   :  2.00  \n",
            " 1st Qu.:12.0   1st Qu.: 26.00  \n",
            " Median :15.0   Median : 36.00  \n",
            " Mean   :15.4   Mean   : 42.98  \n",
            " 3rd Qu.:19.0   3rd Qu.: 56.00  \n",
            " Max.   :25.0   Max.   :120.00  \n"
          ]
        }
      ]
    },
    {
      "cell_type": "code",
      "source": [
        "%%R\n",
        "summary(data2$speed)"
      ],
      "metadata": {
        "colab": {
          "base_uri": "https://localhost:8080/"
        },
        "id": "UdSTIY7YrnoF",
        "outputId": "7c507cff-5b0f-4bd9-d182-51cc38205de7"
      },
      "execution_count": 31,
      "outputs": [
        {
          "output_type": "stream",
          "name": "stdout",
          "text": [
            "   Min. 1st Qu.  Median    Mean 3rd Qu.    Max. \n",
            "    4.0    12.0    15.0    15.4    19.0    25.0 \n"
          ]
        }
      ]
    },
    {
      "cell_type": "code",
      "source": [
        "%%R\n",
        "summary(data2$dist)"
      ],
      "metadata": {
        "colab": {
          "base_uri": "https://localhost:8080/"
        },
        "id": "NKWYITwbr5HV",
        "outputId": "1af419ee-dd05-4758-f166-c0e83f30a868"
      },
      "execution_count": 32,
      "outputs": [
        {
          "output_type": "stream",
          "name": "stdout",
          "text": [
            "   Min. 1st Qu.  Median    Mean 3rd Qu.    Max. \n",
            "   2.00   26.00   36.00   42.98   56.00  120.00 \n"
          ]
        }
      ]
    },
    {
      "cell_type": "code",
      "source": [
        "%%R\n",
        "str(data2)"
      ],
      "metadata": {
        "colab": {
          "base_uri": "https://localhost:8080/"
        },
        "id": "pwHR3Fn0r86G",
        "outputId": "0f4d56e2-ce4c-4f2d-ff1d-4a3bf7de9bfd"
      },
      "execution_count": 33,
      "outputs": [
        {
          "output_type": "stream",
          "name": "stdout",
          "text": [
            "'data.frame':\t50 obs. of  2 variables:\n",
            " $ speed: num  4 4 7 7 8 9 10 10 10 11 ...\n",
            " $ dist : num  2 10 4 22 16 10 18 26 34 17 ...\n"
          ]
        }
      ]
    },
    {
      "cell_type": "code",
      "source": [
        "%%R\n",
        "str(data2$speed)"
      ],
      "metadata": {
        "colab": {
          "base_uri": "https://localhost:8080/"
        },
        "id": "Zns7vjdxsFNe",
        "outputId": "efde176c-e72c-475e-8310-919b1299edda"
      },
      "execution_count": 34,
      "outputs": [
        {
          "output_type": "stream",
          "name": "stdout",
          "text": [
            " num [1:50] 4 4 7 7 8 9 10 10 10 11 ...\n"
          ]
        }
      ]
    },
    {
      "cell_type": "code",
      "source": [
        "%%R\n",
        "str(data2$dist)"
      ],
      "metadata": {
        "colab": {
          "base_uri": "https://localhost:8080/"
        },
        "id": "WgBHEBtbsclN",
        "outputId": "adb939de-c8fe-4660-e847-0370e6590fde"
      },
      "execution_count": 35,
      "outputs": [
        {
          "output_type": "stream",
          "name": "stdout",
          "text": [
            " num [1:50] 2 10 4 22 16 10 18 26 34 17 ...\n"
          ]
        }
      ]
    },
    {
      "cell_type": "code",
      "source": [
        "%%R\n",
        "quantile(data2$dist)"
      ],
      "metadata": {
        "colab": {
          "base_uri": "https://localhost:8080/"
        },
        "id": "FBnPqza9sr2k",
        "outputId": "0c96347a-fe0e-473e-af35-0349e1654a6d"
      },
      "execution_count": 36,
      "outputs": [
        {
          "output_type": "stream",
          "name": "stdout",
          "text": [
            "  0%  25%  50%  75% 100% \n",
            "   2   26   36   56  120 \n"
          ]
        }
      ]
    },
    {
      "cell_type": "code",
      "source": [
        "%%R\n",
        "quantile(data2$speed)"
      ],
      "metadata": {
        "colab": {
          "base_uri": "https://localhost:8080/"
        },
        "id": "3zehm8fJtGgC",
        "outputId": "8114dec6-6d8e-4474-99d5-d05a94a55f8f"
      },
      "execution_count": 38,
      "outputs": [
        {
          "output_type": "stream",
          "name": "stdout",
          "text": [
            "  0%  25%  50%  75% 100% \n",
            "   4   12   15   19   25 \n"
          ]
        }
      ]
    }
  ]
}