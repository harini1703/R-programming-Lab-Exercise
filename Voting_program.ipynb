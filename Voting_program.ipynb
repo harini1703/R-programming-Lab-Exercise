{
  "nbformat": 4,
  "nbformat_minor": 0,
  "metadata": {
    "colab": {
      "name": "Voting program",
      "provenance": [],
      "authorship_tag": "ABX9TyMcSJOrPBWuN8L2uP39J6FC",
      "include_colab_link": true
    },
    "kernelspec": {
      "name": "python3",
      "display_name": "Python 3"
    },
    "language_info": {
      "name": "python"
    }
  },
  "cells": [
    {
      "cell_type": "markdown",
      "metadata": {
        "id": "view-in-github",
        "colab_type": "text"
      },
      "source": [
        "<a href=\"https://colab.research.google.com/github/harini1703/R-programming-Lab-Exercise/blob/main/Voting_program.ipynb\" target=\"_parent\"><img src=\"https://colab.research.google.com/assets/colab-badge.svg\" alt=\"Open In Colab\"/></a>"
      ]
    },
    {
      "cell_type": "code",
      "execution_count": 1,
      "metadata": {
        "id": "4UF_B9S0Khz_"
      },
      "outputs": [],
      "source": [
        "%load_ext rpy2.ipython"
      ]
    },
    {
      "cell_type": "code",
      "source": [
        "%%R\n",
        "{\n",
        "  age <- as.integer(readline(prompt = \"Enter your age :\"))\n",
        " \n",
        "  if (age >= 18)\n",
        "   {\n",
        "    print(paste(\"You are valid for voting :\", age))\n",
        "  } else\n",
        " {\n",
        "    print(paste(\"You are not valid for voting :\", age))\n",
        "  }\n",
        " \n",
        "}"
      ],
      "metadata": {
        "colab": {
          "base_uri": "https://localhost:8080/"
        },
        "id": "8O3PTm49KiZX",
        "outputId": "eb14d5f5-0ac7-48f7-c0ec-5607f971f386"
      },
      "execution_count": 5,
      "outputs": [
        {
          "output_type": "stream",
          "name": "stdout",
          "text": [
            "Enter your age :10\n",
            "[1] \"You are not valid for voting : 10\"\n"
          ]
        }
      ]
    },
    {
      "cell_type": "code",
      "source": [
        ""
      ],
      "metadata": {
        "id": "ZljgMqu_K4yy"
      },
      "execution_count": null,
      "outputs": []
    }
  ]
}