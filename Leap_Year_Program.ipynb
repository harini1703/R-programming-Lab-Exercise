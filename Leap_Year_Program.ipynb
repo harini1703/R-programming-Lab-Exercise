{
  "nbformat": 4,
  "nbformat_minor": 0,
  "metadata": {
    "colab": {
      "name": "Leap Year Program",
      "provenance": [],
      "authorship_tag": "ABX9TyPF8e5ZYefjycM97RuKdXuk",
      "include_colab_link": true
    },
    "kernelspec": {
      "name": "python3",
      "display_name": "Python 3"
    },
    "language_info": {
      "name": "python"
    }
  },
  "cells": [
    {
      "cell_type": "markdown",
      "metadata": {
        "id": "view-in-github",
        "colab_type": "text"
      },
      "source": [
        "<a href=\"https://colab.research.google.com/github/harini1703/R-programming-Lab-Exercise/blob/main/Leap_Year_Program.ipynb\" target=\"_parent\"><img src=\"https://colab.research.google.com/assets/colab-badge.svg\" alt=\"Open In Colab\"/></a>"
      ]
    },
    {
      "cell_type": "code",
      "execution_count": 3,
      "metadata": {
        "colab": {
          "base_uri": "https://localhost:8080/"
        },
        "id": "yvH160OLPzxR",
        "outputId": "081edfcd-620b-4bce-e6f1-829b904c9137"
      },
      "outputs": [
        {
          "output_type": "stream",
          "name": "stdout",
          "text": [
            "The rpy2.ipython extension is already loaded. To reload it, use:\n",
            "  %reload_ext rpy2.ipython\n"
          ]
        }
      ],
      "source": [
        "%load_ext rpy2.ipython"
      ]
    },
    {
      "cell_type": "code",
      "source": [
        "%%R\n",
        "year = as.integer(readline(prompt=\"Enter a year: \"))\n",
        "if((year %% 4) == 0) {\n",
        "if((year %% 100) == 0) {\n",
        "if((year %% 400) == 0) {\n",
        "print(paste(year,\"is a leap year\"))\n",
        "} else {\n",
        "print(paste(year,\"is not a leap year\"))\n",
        "}\n",
        "} else {\n",
        "print(paste(year,\"is a leap year\"))\n",
        "}\n",
        "} else {\n",
        "print(paste(year,\"is not a leap year\"))\n",
        "}"
      ],
      "metadata": {
        "id": "CAo8aQ7MP0gX"
      },
      "execution_count": null,
      "outputs": []
    }
  ]
}