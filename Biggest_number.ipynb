{
  "nbformat": 4,
  "nbformat_minor": 0,
  "metadata": {
    "colab": {
      "name": "Biggest number",
      "provenance": [],
      "authorship_tag": "ABX9TyM+TZbP8ysFF8UK3zFJeIXU",
      "include_colab_link": true
    },
    "kernelspec": {
      "name": "python3",
      "display_name": "Python 3"
    },
    "language_info": {
      "name": "python"
    }
  },
  "cells": [
    {
      "cell_type": "markdown",
      "metadata": {
        "id": "view-in-github",
        "colab_type": "text"
      },
      "source": [
        "<a href=\"https://colab.research.google.com/github/harini1703/R-programming-Lab-Exercise/blob/main/Biggest_number.ipynb\" target=\"_parent\"><img src=\"https://colab.research.google.com/assets/colab-badge.svg\" alt=\"Open In Colab\"/></a>"
      ]
    },
    {
      "cell_type": "code",
      "execution_count": 1,
      "metadata": {
        "id": "zYzy-4i9LYNj"
      },
      "outputs": [],
      "source": [
        "%load_ext rpy2.ipython"
      ]
    },
    {
      "cell_type": "code",
      "source": [
        "%%R\n",
        "{\n",
        "    a<-as.integer(readline(prompt=\"Enter the first number\"))\n",
        "    b<-as.integer(readline(prompt=\"Enter the second number\"))\n",
        "    c<-as.integer(readline(prompt=\"Enter the third number\"))\n",
        "    if(a>b&&a>c)\n",
        "    {\n",
        "        print(paste(\"Greatest number is:\",a))\n",
        "    }\n",
        "    else if (b>c){\n",
        "        print(paste(\"Greatest number is:\",b))\n",
        "    }\n",
        "    else{\n",
        "        print(paste(\"Greatest number is:\",c2))\n",
        "    }\n",
        "\n",
        "}"
      ],
      "metadata": {
        "colab": {
          "base_uri": "https://localhost:8080/"
        },
        "id": "BTho6aFSLYyG",
        "outputId": "f6b2a51d-df90-4887-dd10-e77c9f1bab87"
      },
      "execution_count": 3,
      "outputs": [
        {
          "output_type": "stream",
          "name": "stdout",
          "text": [
            "Enter the first number100\n",
            "Enter the second number200\n",
            "Enter the third number1000\n",
            "[1] \"Greatest number is: 1000\"\n"
          ]
        }
      ]
    }
  ]
}