{
  "nbformat": 4,
  "nbformat_minor": 0,
  "metadata": {
    "colab": {
      "name": "Comparison Operators",
      "provenance": [],
      "authorship_tag": "ABX9TyN7bjuyypH2+YqbpWcmwbbi",
      "include_colab_link": true
    },
    "kernelspec": {
      "name": "python3",
      "display_name": "Python 3"
    },
    "language_info": {
      "name": "python"
    }
  },
  "cells": [
    {
      "cell_type": "markdown",
      "metadata": {
        "id": "view-in-github",
        "colab_type": "text"
      },
      "source": [
        "<a href=\"https://colab.research.google.com/github/harini1703/R-programming-Lab-Exercise/blob/main/Comparison_Operators.ipynb\" target=\"_parent\"><img src=\"https://colab.research.google.com/assets/colab-badge.svg\" alt=\"Open In Colab\"/></a>"
      ]
    },
    {
      "cell_type": "code",
      "execution_count": 3,
      "metadata": {
        "id": "EHfFr8CJ7VVa"
      },
      "outputs": [],
      "source": [
        "%load_ext rpy2.ipython"
      ]
    },
    {
      "cell_type": "markdown",
      "source": [
        "Peforming Equal comparison operation:"
      ],
      "metadata": {
        "id": "9n9YJG1X-m3R"
      }
    },
    {
      "cell_type": "code",
      "source": [
        "%%R\n",
        "8==5\n"
      ],
      "metadata": {
        "colab": {
          "base_uri": "https://localhost:8080/"
        },
        "id": "FMLPRYB8-YMD",
        "outputId": "43402d24-fda7-4622-8049-69e7bf3747dc"
      },
      "execution_count": 4,
      "outputs": [
        {
          "output_type": "stream",
          "name": "stdout",
          "text": [
            "[1] FALSE\n"
          ]
        }
      ]
    },
    {
      "cell_type": "code",
      "source": [
        "%%R\n",
        "10==10"
      ],
      "metadata": {
        "colab": {
          "base_uri": "https://localhost:8080/"
        },
        "id": "Mu43b6b--wW4",
        "outputId": "bbedfb3b-7255-486e-99bf-bdc7f5fe9cfc"
      },
      "execution_count": 7,
      "outputs": [
        {
          "output_type": "stream",
          "name": "stdout",
          "text": [
            "[1] TRUE\n"
          ]
        }
      ]
    },
    {
      "cell_type": "markdown",
      "source": [
        "Peforming Not equal to comparison operation:"
      ],
      "metadata": {
        "id": "tgU0dFnu-9-0"
      }
    },
    {
      "cell_type": "code",
      "source": [
        "%%R\n",
        "8!=10\n",
        "\n"
      ],
      "metadata": {
        "colab": {
          "base_uri": "https://localhost:8080/"
        },
        "id": "odxLbEut-16B",
        "outputId": "c5e0a350-7240-4a2e-b401-bc2230ab37e5"
      },
      "execution_count": 8,
      "outputs": [
        {
          "output_type": "stream",
          "name": "stdout",
          "text": [
            "[1] TRUE\n"
          ]
        }
      ]
    },
    {
      "cell_type": "code",
      "source": [
        "%%R\n",
        "8!=8"
      ],
      "metadata": {
        "colab": {
          "base_uri": "https://localhost:8080/"
        },
        "id": "OfoTqdK9_KPQ",
        "outputId": "78d89578-f25d-4d74-b551-e0a351c4f845"
      },
      "execution_count": 9,
      "outputs": [
        {
          "output_type": "stream",
          "name": "stdout",
          "text": [
            "[1] FALSE\n"
          ]
        }
      ]
    },
    {
      "cell_type": "markdown",
      "source": [
        "Peforming Greater than operation:\n"
      ],
      "metadata": {
        "id": "pD4A-15k_OE-"
      }
    },
    {
      "cell_type": "code",
      "source": [
        "%%R\n",
        "8>10"
      ],
      "metadata": {
        "colab": {
          "base_uri": "https://localhost:8080/"
        },
        "id": "OKkSgU2Q_R2j",
        "outputId": "00ba0ed6-5bb1-4b3e-9b6b-bee0dc2b9c3f"
      },
      "execution_count": 10,
      "outputs": [
        {
          "output_type": "stream",
          "name": "stdout",
          "text": [
            "[1] FALSE\n"
          ]
        }
      ]
    },
    {
      "cell_type": "code",
      "source": [
        "%%R\n",
        "10>5"
      ],
      "metadata": {
        "colab": {
          "base_uri": "https://localhost:8080/"
        },
        "id": "yBj6SD2i_fMH",
        "outputId": "43fa0b54-3987-4c5c-ae0f-59e85150f2f5"
      },
      "execution_count": 11,
      "outputs": [
        {
          "output_type": "stream",
          "name": "stdout",
          "text": [
            "[1] TRUE\n"
          ]
        }
      ]
    },
    {
      "cell_type": "markdown",
      "source": [
        "Peforming Lesser than operation:\n"
      ],
      "metadata": {
        "id": "qnaBOVys_i3y"
      }
    },
    {
      "cell_type": "code",
      "source": [
        "%%R\n",
        "15<10"
      ],
      "metadata": {
        "colab": {
          "base_uri": "https://localhost:8080/"
        },
        "id": "G4AGayy0_hu7",
        "outputId": "aea2a3f0-018f-4336-b342-7cff0dafcda9"
      },
      "execution_count": 12,
      "outputs": [
        {
          "output_type": "stream",
          "name": "stdout",
          "text": [
            "[1] FALSE\n"
          ]
        }
      ]
    },
    {
      "cell_type": "code",
      "source": [
        "%%R\n",
        "20<21"
      ],
      "metadata": {
        "colab": {
          "base_uri": "https://localhost:8080/"
        },
        "id": "ej1FYeOd_q6o",
        "outputId": "685db83b-c32f-429e-bb04-fb6a08a0feec"
      },
      "execution_count": 14,
      "outputs": [
        {
          "output_type": "stream",
          "name": "stdout",
          "text": [
            "[1] TRUE\n"
          ]
        }
      ]
    },
    {
      "cell_type": "markdown",
      "source": [
        "Peforming Greater than or equal to operation:"
      ],
      "metadata": {
        "id": "awj3B4ox_x8k"
      }
    },
    {
      "cell_type": "code",
      "source": [
        "%%R\n",
        "80>=20"
      ],
      "metadata": {
        "colab": {
          "base_uri": "https://localhost:8080/"
        },
        "id": "YZ43fFdf_5LV",
        "outputId": "bb1bd3ea-b475-4993-b03f-467ed8ab66c7"
      },
      "execution_count": 15,
      "outputs": [
        {
          "output_type": "stream",
          "name": "stdout",
          "text": [
            "[1] TRUE\n"
          ]
        }
      ]
    },
    {
      "cell_type": "code",
      "source": [
        "%%R\n",
        "80>=80"
      ],
      "metadata": {
        "colab": {
          "base_uri": "https://localhost:8080/"
        },
        "id": "qUXkvfUvABz5",
        "outputId": "37e01815-7a7b-466f-e0e7-0badc1c9515c"
      },
      "execution_count": 16,
      "outputs": [
        {
          "output_type": "stream",
          "name": "stdout",
          "text": [
            "[1] TRUE\n"
          ]
        }
      ]
    },
    {
      "cell_type": "markdown",
      "source": [
        "Peforming Lesser than or equal to operation:"
      ],
      "metadata": {
        "id": "jeVz9siGAF_p"
      }
    },
    {
      "cell_type": "code",
      "source": [
        "%%R\n",
        "50<=20"
      ],
      "metadata": {
        "colab": {
          "base_uri": "https://localhost:8080/"
        },
        "id": "i-IScfhwAEwo",
        "outputId": "a7085e13-bd00-4104-a628-e5e0f6c7707c"
      },
      "execution_count": 17,
      "outputs": [
        {
          "output_type": "stream",
          "name": "stdout",
          "text": [
            "[1] FALSE\n"
          ]
        }
      ]
    },
    {
      "cell_type": "code",
      "source": [
        "%%R\n",
        "80<=100"
      ],
      "metadata": {
        "colab": {
          "base_uri": "https://localhost:8080/"
        },
        "id": "gJjAnyGmAXSz",
        "outputId": "7c8a367d-3f3a-4cb6-dc88-ffaaab464f97"
      },
      "execution_count": 18,
      "outputs": [
        {
          "output_type": "stream",
          "name": "stdout",
          "text": [
            "[1] TRUE\n"
          ]
        }
      ]
    }
  ]
}