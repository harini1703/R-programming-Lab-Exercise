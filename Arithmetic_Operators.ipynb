{
  "nbformat": 4,
  "nbformat_minor": 0,
  "metadata": {
    "colab": {
      "name": "Arithmetic Operators",
      "provenance": [],
      "collapsed_sections": [],
      "authorship_tag": "ABX9TyPrEergvw7BEDglQw4gMBjh",
      "include_colab_link": true
    },
    "kernelspec": {
      "name": "python3",
      "display_name": "Python 3"
    },
    "language_info": {
      "name": "python"
    }
  },
  "cells": [
    {
      "cell_type": "markdown",
      "metadata": {
        "id": "view-in-github",
        "colab_type": "text"
      },
      "source": [
        "<a href=\"https://colab.research.google.com/github/harini1703/harini1703/blob/main/Arithmetic_Operators.ipynb\" target=\"_parent\"><img src=\"https://colab.research.google.com/assets/colab-badge.svg\" alt=\"Open In Colab\"/></a>"
      ]
    },
    {
      "cell_type": "code",
      "execution_count": 1,
      "metadata": {
        "id": "2Ao9_8myz3AY"
      },
      "outputs": [],
      "source": [
        "%load_ext rpy2.ipython"
      ]
    },
    {
      "cell_type": "markdown",
      "source": [
        "Performing Addition operation:"
      ],
      "metadata": {
        "id": "mR0vYS5w2IE1"
      }
    },
    {
      "cell_type": "code",
      "source": [
        "%%R\n",
        "print(8+9)"
      ],
      "metadata": {
        "colab": {
          "base_uri": "https://localhost:8080/"
        },
        "id": "opdakACrz51n",
        "outputId": "1f483f1e-ee52-4388-a8cd-358c79862442"
      },
      "execution_count": 3,
      "outputs": [
        {
          "output_type": "stream",
          "name": "stdout",
          "text": [
            "[1] 17\n"
          ]
        }
      ]
    },
    {
      "cell_type": "code",
      "source": [
        "%%R\n",
        "8+9"
      ],
      "metadata": {
        "colab": {
          "base_uri": "https://localhost:8080/"
        },
        "id": "fw86dPRf0B6U",
        "outputId": "d0752795-dc33-48dd-c7f2-ade0f93d7ec9"
      },
      "execution_count": 4,
      "outputs": [
        {
          "output_type": "stream",
          "name": "stdout",
          "text": [
            "[1] 17\n"
          ]
        }
      ]
    },
    {
      "cell_type": "markdown",
      "source": [
        "Peforming Subtraction operation:\n"
      ],
      "metadata": {
        "id": "ChhRNrd32UVw"
      }
    },
    {
      "cell_type": "code",
      "source": [
        "%%R\n",
        "8-9"
      ],
      "metadata": {
        "colab": {
          "base_uri": "https://localhost:8080/"
        },
        "id": "6CODoS0O2SpZ",
        "outputId": "add588b2-7725-4424-c4af-e3cf0f46e928"
      },
      "execution_count": 5,
      "outputs": [
        {
          "output_type": "stream",
          "name": "stdout",
          "text": [
            "[1] -1\n"
          ]
        }
      ]
    },
    {
      "cell_type": "code",
      "source": [
        "%%R\n",
        "12-9"
      ],
      "metadata": {
        "colab": {
          "base_uri": "https://localhost:8080/"
        },
        "id": "6bCLeE_b2cwe",
        "outputId": "441bfb99-d538-497d-c505-beb665c0b3f4"
      },
      "execution_count": 7,
      "outputs": [
        {
          "output_type": "stream",
          "name": "stdout",
          "text": [
            "[1] 3\n"
          ]
        }
      ]
    },
    {
      "cell_type": "markdown",
      "source": [
        "Peforming Multiplication operations:"
      ],
      "metadata": {
        "id": "E1VO5RRt2jPe"
      }
    },
    {
      "cell_type": "code",
      "source": [
        "%%R\n",
        "8*9"
      ],
      "metadata": {
        "colab": {
          "base_uri": "https://localhost:8080/"
        },
        "id": "_AkX16oK2gUt",
        "outputId": "7c20da71-6955-4578-9ad7-92981161ab92"
      },
      "execution_count": 8,
      "outputs": [
        {
          "output_type": "stream",
          "name": "stdout",
          "text": [
            "[1] 72\n"
          ]
        }
      ]
    },
    {
      "cell_type": "code",
      "source": [
        "%%R\n",
        "5*8"
      ],
      "metadata": {
        "colab": {
          "base_uri": "https://localhost:8080/"
        },
        "id": "5vixVGNN2r07",
        "outputId": "eea76a7a-9d1d-44d6-bf8d-a481535ef43f"
      },
      "execution_count": 9,
      "outputs": [
        {
          "output_type": "stream",
          "name": "stdout",
          "text": [
            "[1] 40\n"
          ]
        }
      ]
    },
    {
      "cell_type": "code",
      "source": [
        ""
      ],
      "metadata": {
        "id": "hDnI5RSz2t8a"
      },
      "execution_count": null,
      "outputs": []
    },
    {
      "cell_type": "markdown",
      "source": [
        "Peforming Division operation:"
      ],
      "metadata": {
        "id": "_mWUeh5b27JU"
      }
    },
    {
      "cell_type": "code",
      "source": [
        "%%R\n",
        "A<-5\n",
        "B<-10\n",
        "A/B"
      ],
      "metadata": {
        "colab": {
          "base_uri": "https://localhost:8080/"
        },
        "id": "cOwYC-tK3CZI",
        "outputId": "eca9ab93-ce73-40ab-9517-3d0aab3163e6"
      },
      "execution_count": 11,
      "outputs": [
        {
          "output_type": "stream",
          "name": "stdout",
          "text": [
            "[1] 0.5\n"
          ]
        }
      ]
    },
    {
      "cell_type": "code",
      "source": [
        "%%R\n",
        "50/100"
      ],
      "metadata": {
        "colab": {
          "base_uri": "https://localhost:8080/"
        },
        "id": "2O5n0eTj3CVp",
        "outputId": "378e3aa4-c42d-45df-a632-23347d267c14"
      },
      "execution_count": 12,
      "outputs": [
        {
          "output_type": "stream",
          "name": "stdout",
          "text": [
            "[1] 0.5\n"
          ]
        }
      ]
    },
    {
      "cell_type": "markdown",
      "source": [
        "Peforming Exponent operation:\n"
      ],
      "metadata": {
        "id": "CWFP2APu3Tda"
      }
    },
    {
      "cell_type": "code",
      "source": [
        "%%R\n",
        "8^6\n"
      ],
      "metadata": {
        "colab": {
          "base_uri": "https://localhost:8080/"
        },
        "id": "I5NQzAOY3Zfp",
        "outputId": "35a37385-b180-4016-f7ba-0ded7300f587"
      },
      "execution_count": 13,
      "outputs": [
        {
          "output_type": "stream",
          "name": "stdout",
          "text": [
            "[1] 262144\n"
          ]
        }
      ]
    },
    {
      "cell_type": "code",
      "source": [
        "%%R\n",
        "A<-5\n",
        "B<-10\n",
        "A^B"
      ],
      "metadata": {
        "colab": {
          "base_uri": "https://localhost:8080/"
        },
        "id": "HUh5DbzX3fiT",
        "outputId": "d4135797-7ced-4e85-ffa7-14fc3ccebcd9"
      },
      "execution_count": 14,
      "outputs": [
        {
          "output_type": "stream",
          "name": "stdout",
          "text": [
            "[1] 9765625\n"
          ]
        }
      ]
    },
    {
      "cell_type": "code",
      "source": [
        ""
      ],
      "metadata": {
        "id": "OCPg3ZN33kxa"
      },
      "execution_count": null,
      "outputs": []
    },
    {
      "cell_type": "markdown",
      "source": [
        "Peforming Modulus(Remainder from division)\n"
      ],
      "metadata": {
        "id": "D8qpkWg43opz"
      }
    },
    {
      "cell_type": "code",
      "source": [
        "%%R\n",
        "8%%50"
      ],
      "metadata": {
        "colab": {
          "base_uri": "https://localhost:8080/"
        },
        "id": "boE60aaZ3wSx",
        "outputId": "4da890bb-744d-4a3f-c27f-615c81df0566"
      },
      "execution_count": 15,
      "outputs": [
        {
          "output_type": "stream",
          "name": "stdout",
          "text": [
            "[1] 8\n"
          ]
        }
      ]
    },
    {
      "cell_type": "code",
      "source": [
        "%%R\n",
        "4%%4"
      ],
      "metadata": {
        "colab": {
          "base_uri": "https://localhost:8080/"
        },
        "id": "1Ksqwa_h30H8",
        "outputId": "b6308afa-6872-4c20-fdf2-fd6112f73c00"
      },
      "execution_count": 16,
      "outputs": [
        {
          "output_type": "stream",
          "name": "stdout",
          "text": [
            "[1] 0\n"
          ]
        }
      ]
    },
    {
      "cell_type": "code",
      "source": [
        ""
      ],
      "metadata": {
        "id": "U3FBTN54342_"
      },
      "execution_count": null,
      "outputs": []
    },
    {
      "cell_type": "markdown",
      "source": [
        "Performing integer division:"
      ],
      "metadata": {
        "id": "tBl3iHSz375b"
      }
    },
    {
      "cell_type": "code",
      "source": [
        "%%R\n",
        "8%/%10"
      ],
      "metadata": {
        "colab": {
          "base_uri": "https://localhost:8080/"
        },
        "id": "F0VJ0EiD37qG",
        "outputId": "f7f4edd9-eaf7-4a20-f915-2b0cb2814d8e"
      },
      "execution_count": 21,
      "outputs": [
        {
          "output_type": "stream",
          "name": "stdout",
          "text": [
            "[1] 0\n"
          ]
        }
      ]
    },
    {
      "cell_type": "code",
      "source": [
        "%%R\n",
        "100%/%100"
      ],
      "metadata": {
        "colab": {
          "base_uri": "https://localhost:8080/"
        },
        "id": "W4quvKZB4K_J",
        "outputId": "fc87663f-eee0-4f97-f00a-f0c24efd0f14"
      },
      "execution_count": 20,
      "outputs": [
        {
          "output_type": "stream",
          "name": "stdout",
          "text": [
            "[1] 1\n"
          ]
        }
      ]
    },
    {
      "cell_type": "code",
      "source": [
        ""
      ],
      "metadata": {
        "id": "tlPefRvx4QJR"
      },
      "execution_count": null,
      "outputs": []
    }
  ]
}