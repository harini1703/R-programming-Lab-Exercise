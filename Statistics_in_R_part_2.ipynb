{
  "nbformat": 4,
  "nbformat_minor": 0,
  "metadata": {
    "colab": {
      "name": " Statistics in R -part 2",
      "provenance": [],
      "collapsed_sections": [],
      "authorship_tag": "ABX9TyM7PQy1yrhm5LhjmMv3/u/T",
      "include_colab_link": true
    },
    "kernelspec": {
      "name": "python3",
      "display_name": "Python 3"
    },
    "language_info": {
      "name": "python"
    }
  },
  "cells": [
    {
      "cell_type": "markdown",
      "metadata": {
        "id": "view-in-github",
        "colab_type": "text"
      },
      "source": [
        "<a href=\"https://colab.research.google.com/github/harini1703/R-programming-Lab-Exercise/blob/main/Statistics_in_R_part_2.ipynb\" target=\"_parent\"><img src=\"https://colab.research.google.com/assets/colab-badge.svg\" alt=\"Open In Colab\"/></a>"
      ]
    },
    {
      "cell_type": "code",
      "execution_count": 1,
      "metadata": {
        "id": "-LYFzd8qn8Ki"
      },
      "outputs": [],
      "source": [
        "%load_ext rpy2.ipython"
      ]
    },
    {
      "cell_type": "code",
      "source": [
        "%%R\n",
        "data=iris\n",
        "print(data)"
      ],
      "metadata": {
        "colab": {
          "base_uri": "https://localhost:8080/"
        },
        "id": "gbDYtWAAn_0K",
        "outputId": "ffe4991c-9c42-4fe2-d3d2-f43d2f046e6c"
      },
      "execution_count": 7,
      "outputs": [
        {
          "output_type": "stream",
          "name": "stdout",
          "text": [
            "    Sepal.Length Sepal.Width Petal.Length Petal.Width    Species\n",
            "1            5.1         3.5          1.4         0.2     setosa\n",
            "2            4.9         3.0          1.4         0.2     setosa\n",
            "3            4.7         3.2          1.3         0.2     setosa\n",
            "4            4.6         3.1          1.5         0.2     setosa\n",
            "5            5.0         3.6          1.4         0.2     setosa\n",
            "6            5.4         3.9          1.7         0.4     setosa\n",
            "7            4.6         3.4          1.4         0.3     setosa\n",
            "8            5.0         3.4          1.5         0.2     setosa\n",
            "9            4.4         2.9          1.4         0.2     setosa\n",
            "10           4.9         3.1          1.5         0.1     setosa\n",
            "11           5.4         3.7          1.5         0.2     setosa\n",
            "12           4.8         3.4          1.6         0.2     setosa\n",
            "13           4.8         3.0          1.4         0.1     setosa\n",
            "14           4.3         3.0          1.1         0.1     setosa\n",
            "15           5.8         4.0          1.2         0.2     setosa\n",
            "16           5.7         4.4          1.5         0.4     setosa\n",
            "17           5.4         3.9          1.3         0.4     setosa\n",
            "18           5.1         3.5          1.4         0.3     setosa\n",
            "19           5.7         3.8          1.7         0.3     setosa\n",
            "20           5.1         3.8          1.5         0.3     setosa\n",
            "21           5.4         3.4          1.7         0.2     setosa\n",
            "22           5.1         3.7          1.5         0.4     setosa\n",
            "23           4.6         3.6          1.0         0.2     setosa\n",
            "24           5.1         3.3          1.7         0.5     setosa\n",
            "25           4.8         3.4          1.9         0.2     setosa\n",
            "26           5.0         3.0          1.6         0.2     setosa\n",
            "27           5.0         3.4          1.6         0.4     setosa\n",
            "28           5.2         3.5          1.5         0.2     setosa\n",
            "29           5.2         3.4          1.4         0.2     setosa\n",
            "30           4.7         3.2          1.6         0.2     setosa\n",
            "31           4.8         3.1          1.6         0.2     setosa\n",
            "32           5.4         3.4          1.5         0.4     setosa\n",
            "33           5.2         4.1          1.5         0.1     setosa\n",
            "34           5.5         4.2          1.4         0.2     setosa\n",
            "35           4.9         3.1          1.5         0.2     setosa\n",
            "36           5.0         3.2          1.2         0.2     setosa\n",
            "37           5.5         3.5          1.3         0.2     setosa\n",
            "38           4.9         3.6          1.4         0.1     setosa\n",
            "39           4.4         3.0          1.3         0.2     setosa\n",
            "40           5.1         3.4          1.5         0.2     setosa\n",
            "41           5.0         3.5          1.3         0.3     setosa\n",
            "42           4.5         2.3          1.3         0.3     setosa\n",
            "43           4.4         3.2          1.3         0.2     setosa\n",
            "44           5.0         3.5          1.6         0.6     setosa\n",
            "45           5.1         3.8          1.9         0.4     setosa\n",
            "46           4.8         3.0          1.4         0.3     setosa\n",
            "47           5.1         3.8          1.6         0.2     setosa\n",
            "48           4.6         3.2          1.4         0.2     setosa\n",
            "49           5.3         3.7          1.5         0.2     setosa\n",
            "50           5.0         3.3          1.4         0.2     setosa\n",
            "51           7.0         3.2          4.7         1.4 versicolor\n",
            "52           6.4         3.2          4.5         1.5 versicolor\n",
            "53           6.9         3.1          4.9         1.5 versicolor\n",
            "54           5.5         2.3          4.0         1.3 versicolor\n",
            "55           6.5         2.8          4.6         1.5 versicolor\n",
            "56           5.7         2.8          4.5         1.3 versicolor\n",
            "57           6.3         3.3          4.7         1.6 versicolor\n",
            "58           4.9         2.4          3.3         1.0 versicolor\n",
            "59           6.6         2.9          4.6         1.3 versicolor\n",
            "60           5.2         2.7          3.9         1.4 versicolor\n",
            "61           5.0         2.0          3.5         1.0 versicolor\n",
            "62           5.9         3.0          4.2         1.5 versicolor\n",
            "63           6.0         2.2          4.0         1.0 versicolor\n",
            "64           6.1         2.9          4.7         1.4 versicolor\n",
            "65           5.6         2.9          3.6         1.3 versicolor\n",
            "66           6.7         3.1          4.4         1.4 versicolor\n",
            "67           5.6         3.0          4.5         1.5 versicolor\n",
            "68           5.8         2.7          4.1         1.0 versicolor\n",
            "69           6.2         2.2          4.5         1.5 versicolor\n",
            "70           5.6         2.5          3.9         1.1 versicolor\n",
            "71           5.9         3.2          4.8         1.8 versicolor\n",
            "72           6.1         2.8          4.0         1.3 versicolor\n",
            "73           6.3         2.5          4.9         1.5 versicolor\n",
            "74           6.1         2.8          4.7         1.2 versicolor\n",
            "75           6.4         2.9          4.3         1.3 versicolor\n",
            "76           6.6         3.0          4.4         1.4 versicolor\n",
            "77           6.8         2.8          4.8         1.4 versicolor\n",
            "78           6.7         3.0          5.0         1.7 versicolor\n",
            "79           6.0         2.9          4.5         1.5 versicolor\n",
            "80           5.7         2.6          3.5         1.0 versicolor\n",
            "81           5.5         2.4          3.8         1.1 versicolor\n",
            "82           5.5         2.4          3.7         1.0 versicolor\n",
            "83           5.8         2.7          3.9         1.2 versicolor\n",
            "84           6.0         2.7          5.1         1.6 versicolor\n",
            "85           5.4         3.0          4.5         1.5 versicolor\n",
            "86           6.0         3.4          4.5         1.6 versicolor\n",
            "87           6.7         3.1          4.7         1.5 versicolor\n",
            "88           6.3         2.3          4.4         1.3 versicolor\n",
            "89           5.6         3.0          4.1         1.3 versicolor\n",
            "90           5.5         2.5          4.0         1.3 versicolor\n",
            "91           5.5         2.6          4.4         1.2 versicolor\n",
            "92           6.1         3.0          4.6         1.4 versicolor\n",
            "93           5.8         2.6          4.0         1.2 versicolor\n",
            "94           5.0         2.3          3.3         1.0 versicolor\n",
            "95           5.6         2.7          4.2         1.3 versicolor\n",
            "96           5.7         3.0          4.2         1.2 versicolor\n",
            "97           5.7         2.9          4.2         1.3 versicolor\n",
            "98           6.2         2.9          4.3         1.3 versicolor\n",
            "99           5.1         2.5          3.0         1.1 versicolor\n",
            "100          5.7         2.8          4.1         1.3 versicolor\n",
            "101          6.3         3.3          6.0         2.5  virginica\n",
            "102          5.8         2.7          5.1         1.9  virginica\n",
            "103          7.1         3.0          5.9         2.1  virginica\n",
            "104          6.3         2.9          5.6         1.8  virginica\n",
            "105          6.5         3.0          5.8         2.2  virginica\n",
            "106          7.6         3.0          6.6         2.1  virginica\n",
            "107          4.9         2.5          4.5         1.7  virginica\n",
            "108          7.3         2.9          6.3         1.8  virginica\n",
            "109          6.7         2.5          5.8         1.8  virginica\n",
            "110          7.2         3.6          6.1         2.5  virginica\n",
            "111          6.5         3.2          5.1         2.0  virginica\n",
            "112          6.4         2.7          5.3         1.9  virginica\n",
            "113          6.8         3.0          5.5         2.1  virginica\n",
            "114          5.7         2.5          5.0         2.0  virginica\n",
            "115          5.8         2.8          5.1         2.4  virginica\n",
            "116          6.4         3.2          5.3         2.3  virginica\n",
            "117          6.5         3.0          5.5         1.8  virginica\n",
            "118          7.7         3.8          6.7         2.2  virginica\n",
            "119          7.7         2.6          6.9         2.3  virginica\n",
            "120          6.0         2.2          5.0         1.5  virginica\n",
            "121          6.9         3.2          5.7         2.3  virginica\n",
            "122          5.6         2.8          4.9         2.0  virginica\n",
            "123          7.7         2.8          6.7         2.0  virginica\n",
            "124          6.3         2.7          4.9         1.8  virginica\n",
            "125          6.7         3.3          5.7         2.1  virginica\n",
            "126          7.2         3.2          6.0         1.8  virginica\n",
            "127          6.2         2.8          4.8         1.8  virginica\n",
            "128          6.1         3.0          4.9         1.8  virginica\n",
            "129          6.4         2.8          5.6         2.1  virginica\n",
            "130          7.2         3.0          5.8         1.6  virginica\n",
            "131          7.4         2.8          6.1         1.9  virginica\n",
            "132          7.9         3.8          6.4         2.0  virginica\n",
            "133          6.4         2.8          5.6         2.2  virginica\n",
            "134          6.3         2.8          5.1         1.5  virginica\n",
            "135          6.1         2.6          5.6         1.4  virginica\n",
            "136          7.7         3.0          6.1         2.3  virginica\n",
            "137          6.3         3.4          5.6         2.4  virginica\n",
            "138          6.4         3.1          5.5         1.8  virginica\n",
            "139          6.0         3.0          4.8         1.8  virginica\n",
            "140          6.9         3.1          5.4         2.1  virginica\n",
            "141          6.7         3.1          5.6         2.4  virginica\n",
            "142          6.9         3.1          5.1         2.3  virginica\n",
            "143          5.8         2.7          5.1         1.9  virginica\n",
            "144          6.8         3.2          5.9         2.3  virginica\n",
            "145          6.7         3.3          5.7         2.5  virginica\n",
            "146          6.7         3.0          5.2         2.3  virginica\n",
            "147          6.3         2.5          5.0         1.9  virginica\n",
            "148          6.5         3.0          5.2         2.0  virginica\n",
            "149          6.2         3.4          5.4         2.3  virginica\n",
            "150          5.9         3.0          5.1         1.8  virginica\n",
            "    Sepal.Length Sepal.Width Petal.Length Petal.Width    Species\n",
            "1            5.1         3.5          1.4         0.2     setosa\n",
            "2            4.9         3.0          1.4         0.2     setosa\n",
            "3            4.7         3.2          1.3         0.2     setosa\n",
            "4            4.6         3.1          1.5         0.2     setosa\n",
            "5            5.0         3.6          1.4         0.2     setosa\n",
            "6            5.4         3.9          1.7         0.4     setosa\n",
            "7            4.6         3.4          1.4         0.3     setosa\n",
            "8            5.0         3.4          1.5         0.2     setosa\n",
            "9            4.4         2.9          1.4         0.2     setosa\n",
            "10           4.9         3.1          1.5         0.1     setosa\n",
            "11           5.4         3.7          1.5         0.2     setosa\n",
            "12           4.8         3.4          1.6         0.2     setosa\n",
            "13           4.8         3.0          1.4         0.1     setosa\n",
            "14           4.3         3.0          1.1         0.1     setosa\n",
            "15           5.8         4.0          1.2         0.2     setosa\n",
            "16           5.7         4.4          1.5         0.4     setosa\n",
            "17           5.4         3.9          1.3         0.4     setosa\n",
            "18           5.1         3.5          1.4         0.3     setosa\n",
            "19           5.7         3.8          1.7         0.3     setosa\n",
            "20           5.1         3.8          1.5         0.3     setosa\n",
            "21           5.4         3.4          1.7         0.2     setosa\n",
            "22           5.1         3.7          1.5         0.4     setosa\n",
            "23           4.6         3.6          1.0         0.2     setosa\n",
            "24           5.1         3.3          1.7         0.5     setosa\n",
            "25           4.8         3.4          1.9         0.2     setosa\n",
            "26           5.0         3.0          1.6         0.2     setosa\n",
            "27           5.0         3.4          1.6         0.4     setosa\n",
            "28           5.2         3.5          1.5         0.2     setosa\n",
            "29           5.2         3.4          1.4         0.2     setosa\n",
            "30           4.7         3.2          1.6         0.2     setosa\n",
            "31           4.8         3.1          1.6         0.2     setosa\n",
            "32           5.4         3.4          1.5         0.4     setosa\n",
            "33           5.2         4.1          1.5         0.1     setosa\n",
            "34           5.5         4.2          1.4         0.2     setosa\n",
            "35           4.9         3.1          1.5         0.2     setosa\n",
            "36           5.0         3.2          1.2         0.2     setosa\n",
            "37           5.5         3.5          1.3         0.2     setosa\n",
            "38           4.9         3.6          1.4         0.1     setosa\n",
            "39           4.4         3.0          1.3         0.2     setosa\n",
            "40           5.1         3.4          1.5         0.2     setosa\n",
            "41           5.0         3.5          1.3         0.3     setosa\n",
            "42           4.5         2.3          1.3         0.3     setosa\n",
            "43           4.4         3.2          1.3         0.2     setosa\n",
            "44           5.0         3.5          1.6         0.6     setosa\n",
            "45           5.1         3.8          1.9         0.4     setosa\n",
            "46           4.8         3.0          1.4         0.3     setosa\n",
            "47           5.1         3.8          1.6         0.2     setosa\n",
            "48           4.6         3.2          1.4         0.2     setosa\n",
            "49           5.3         3.7          1.5         0.2     setosa\n",
            "50           5.0         3.3          1.4         0.2     setosa\n",
            "51           7.0         3.2          4.7         1.4 versicolor\n",
            "52           6.4         3.2          4.5         1.5 versicolor\n",
            "53           6.9         3.1          4.9         1.5 versicolor\n",
            "54           5.5         2.3          4.0         1.3 versicolor\n",
            "55           6.5         2.8          4.6         1.5 versicolor\n",
            "56           5.7         2.8          4.5         1.3 versicolor\n",
            "57           6.3         3.3          4.7         1.6 versicolor\n",
            "58           4.9         2.4          3.3         1.0 versicolor\n",
            "59           6.6         2.9          4.6         1.3 versicolor\n",
            "60           5.2         2.7          3.9         1.4 versicolor\n",
            "61           5.0         2.0          3.5         1.0 versicolor\n",
            "62           5.9         3.0          4.2         1.5 versicolor\n",
            "63           6.0         2.2          4.0         1.0 versicolor\n",
            "64           6.1         2.9          4.7         1.4 versicolor\n",
            "65           5.6         2.9          3.6         1.3 versicolor\n",
            "66           6.7         3.1          4.4         1.4 versicolor\n",
            "67           5.6         3.0          4.5         1.5 versicolor\n",
            "68           5.8         2.7          4.1         1.0 versicolor\n",
            "69           6.2         2.2          4.5         1.5 versicolor\n",
            "70           5.6         2.5          3.9         1.1 versicolor\n",
            "71           5.9         3.2          4.8         1.8 versicolor\n",
            "72           6.1         2.8          4.0         1.3 versicolor\n",
            "73           6.3         2.5          4.9         1.5 versicolor\n",
            "74           6.1         2.8          4.7         1.2 versicolor\n",
            "75           6.4         2.9          4.3         1.3 versicolor\n",
            "76           6.6         3.0          4.4         1.4 versicolor\n",
            "77           6.8         2.8          4.8         1.4 versicolor\n",
            "78           6.7         3.0          5.0         1.7 versicolor\n",
            "79           6.0         2.9          4.5         1.5 versicolor\n",
            "80           5.7         2.6          3.5         1.0 versicolor\n",
            "81           5.5         2.4          3.8         1.1 versicolor\n",
            "82           5.5         2.4          3.7         1.0 versicolor\n",
            "83           5.8         2.7          3.9         1.2 versicolor\n",
            "84           6.0         2.7          5.1         1.6 versicolor\n",
            "85           5.4         3.0          4.5         1.5 versicolor\n",
            "86           6.0         3.4          4.5         1.6 versicolor\n",
            "87           6.7         3.1          4.7         1.5 versicolor\n",
            "88           6.3         2.3          4.4         1.3 versicolor\n",
            "89           5.6         3.0          4.1         1.3 versicolor\n",
            "90           5.5         2.5          4.0         1.3 versicolor\n",
            "91           5.5         2.6          4.4         1.2 versicolor\n",
            "92           6.1         3.0          4.6         1.4 versicolor\n",
            "93           5.8         2.6          4.0         1.2 versicolor\n",
            "94           5.0         2.3          3.3         1.0 versicolor\n",
            "95           5.6         2.7          4.2         1.3 versicolor\n",
            "96           5.7         3.0          4.2         1.2 versicolor\n",
            "97           5.7         2.9          4.2         1.3 versicolor\n",
            "98           6.2         2.9          4.3         1.3 versicolor\n",
            "99           5.1         2.5          3.0         1.1 versicolor\n",
            "100          5.7         2.8          4.1         1.3 versicolor\n",
            "101          6.3         3.3          6.0         2.5  virginica\n",
            "102          5.8         2.7          5.1         1.9  virginica\n",
            "103          7.1         3.0          5.9         2.1  virginica\n",
            "104          6.3         2.9          5.6         1.8  virginica\n",
            "105          6.5         3.0          5.8         2.2  virginica\n",
            "106          7.6         3.0          6.6         2.1  virginica\n",
            "107          4.9         2.5          4.5         1.7  virginica\n",
            "108          7.3         2.9          6.3         1.8  virginica\n",
            "109          6.7         2.5          5.8         1.8  virginica\n",
            "110          7.2         3.6          6.1         2.5  virginica\n",
            "111          6.5         3.2          5.1         2.0  virginica\n",
            "112          6.4         2.7          5.3         1.9  virginica\n",
            "113          6.8         3.0          5.5         2.1  virginica\n",
            "114          5.7         2.5          5.0         2.0  virginica\n",
            "115          5.8         2.8          5.1         2.4  virginica\n",
            "116          6.4         3.2          5.3         2.3  virginica\n",
            "117          6.5         3.0          5.5         1.8  virginica\n",
            "118          7.7         3.8          6.7         2.2  virginica\n",
            "119          7.7         2.6          6.9         2.3  virginica\n",
            "120          6.0         2.2          5.0         1.5  virginica\n",
            "121          6.9         3.2          5.7         2.3  virginica\n",
            "122          5.6         2.8          4.9         2.0  virginica\n",
            "123          7.7         2.8          6.7         2.0  virginica\n",
            "124          6.3         2.7          4.9         1.8  virginica\n",
            "125          6.7         3.3          5.7         2.1  virginica\n",
            "126          7.2         3.2          6.0         1.8  virginica\n",
            "127          6.2         2.8          4.8         1.8  virginica\n",
            "128          6.1         3.0          4.9         1.8  virginica\n",
            "129          6.4         2.8          5.6         2.1  virginica\n",
            "130          7.2         3.0          5.8         1.6  virginica\n",
            "131          7.4         2.8          6.1         1.9  virginica\n",
            "132          7.9         3.8          6.4         2.0  virginica\n",
            "133          6.4         2.8          5.6         2.2  virginica\n",
            "134          6.3         2.8          5.1         1.5  virginica\n",
            "135          6.1         2.6          5.6         1.4  virginica\n",
            "136          7.7         3.0          6.1         2.3  virginica\n",
            "137          6.3         3.4          5.6         2.4  virginica\n",
            "138          6.4         3.1          5.5         1.8  virginica\n",
            "139          6.0         3.0          4.8         1.8  virginica\n",
            "140          6.9         3.1          5.4         2.1  virginica\n",
            "141          6.7         3.1          5.6         2.4  virginica\n",
            "142          6.9         3.1          5.1         2.3  virginica\n",
            "143          5.8         2.7          5.1         1.9  virginica\n",
            "144          6.8         3.2          5.9         2.3  virginica\n",
            "145          6.7         3.3          5.7         2.5  virginica\n",
            "146          6.7         3.0          5.2         2.3  virginica\n",
            "147          6.3         2.5          5.0         1.9  virginica\n",
            "148          6.5         3.0          5.2         2.0  virginica\n",
            "149          6.2         3.4          5.4         2.3  virginica\n",
            "150          5.9         3.0          5.1         1.8  virginica\n"
          ]
        }
      ]
    },
    {
      "cell_type": "markdown",
      "source": [
        "**SUBSET OF THE DATASET BY USING subset() FUNCTION:**\n",
        "\n",
        "\n",
        "\n"
      ],
      "metadata": {
        "id": "4M4NfygvuK65"
      }
    },
    {
      "cell_type": "code",
      "source": [
        "%%R\n",
        "subset(data,Species==\"virginica\")"
      ],
      "metadata": {
        "colab": {
          "base_uri": "https://localhost:8080/"
        },
        "id": "UV04_IoNoDnd",
        "outputId": "4f2fa32f-bbf9-4f3a-b6f2-2d9f6d29d3fa"
      },
      "execution_count": 6,
      "outputs": [
        {
          "output_type": "stream",
          "name": "stdout",
          "text": [
            "    Sepal.Length Sepal.Width Petal.Length Petal.Width   Species\n",
            "101          6.3         3.3          6.0         2.5 virginica\n",
            "102          5.8         2.7          5.1         1.9 virginica\n",
            "103          7.1         3.0          5.9         2.1 virginica\n",
            "104          6.3         2.9          5.6         1.8 virginica\n",
            "105          6.5         3.0          5.8         2.2 virginica\n",
            "106          7.6         3.0          6.6         2.1 virginica\n",
            "107          4.9         2.5          4.5         1.7 virginica\n",
            "108          7.3         2.9          6.3         1.8 virginica\n",
            "109          6.7         2.5          5.8         1.8 virginica\n",
            "110          7.2         3.6          6.1         2.5 virginica\n",
            "111          6.5         3.2          5.1         2.0 virginica\n",
            "112          6.4         2.7          5.3         1.9 virginica\n",
            "113          6.8         3.0          5.5         2.1 virginica\n",
            "114          5.7         2.5          5.0         2.0 virginica\n",
            "115          5.8         2.8          5.1         2.4 virginica\n",
            "116          6.4         3.2          5.3         2.3 virginica\n",
            "117          6.5         3.0          5.5         1.8 virginica\n",
            "118          7.7         3.8          6.7         2.2 virginica\n",
            "119          7.7         2.6          6.9         2.3 virginica\n",
            "120          6.0         2.2          5.0         1.5 virginica\n",
            "121          6.9         3.2          5.7         2.3 virginica\n",
            "122          5.6         2.8          4.9         2.0 virginica\n",
            "123          7.7         2.8          6.7         2.0 virginica\n",
            "124          6.3         2.7          4.9         1.8 virginica\n",
            "125          6.7         3.3          5.7         2.1 virginica\n",
            "126          7.2         3.2          6.0         1.8 virginica\n",
            "127          6.2         2.8          4.8         1.8 virginica\n",
            "128          6.1         3.0          4.9         1.8 virginica\n",
            "129          6.4         2.8          5.6         2.1 virginica\n",
            "130          7.2         3.0          5.8         1.6 virginica\n",
            "131          7.4         2.8          6.1         1.9 virginica\n",
            "132          7.9         3.8          6.4         2.0 virginica\n",
            "133          6.4         2.8          5.6         2.2 virginica\n",
            "134          6.3         2.8          5.1         1.5 virginica\n",
            "135          6.1         2.6          5.6         1.4 virginica\n",
            "136          7.7         3.0          6.1         2.3 virginica\n",
            "137          6.3         3.4          5.6         2.4 virginica\n",
            "138          6.4         3.1          5.5         1.8 virginica\n",
            "139          6.0         3.0          4.8         1.8 virginica\n",
            "140          6.9         3.1          5.4         2.1 virginica\n",
            "141          6.7         3.1          5.6         2.4 virginica\n",
            "142          6.9         3.1          5.1         2.3 virginica\n",
            "143          5.8         2.7          5.1         1.9 virginica\n",
            "144          6.8         3.2          5.9         2.3 virginica\n",
            "145          6.7         3.3          5.7         2.5 virginica\n",
            "146          6.7         3.0          5.2         2.3 virginica\n",
            "147          6.3         2.5          5.0         1.9 virginica\n",
            "148          6.5         3.0          5.2         2.0 virginica\n",
            "149          6.2         3.4          5.4         2.3 virginica\n",
            "150          5.9         3.0          5.1         1.8 virginica\n"
          ]
        }
      ]
    },
    {
      "cell_type": "code",
      "source": [
        "%%R\n",
        "subset(data,Species==\"Sertosa\")"
      ],
      "metadata": {
        "colab": {
          "base_uri": "https://localhost:8080/"
        },
        "id": "Dnbe43Fm1sm_",
        "outputId": "fe77be18-0156-425d-bb1d-7afde6ecbaa8"
      },
      "execution_count": 8,
      "outputs": [
        {
          "output_type": "stream",
          "name": "stdout",
          "text": [
            "[1] Sepal.Length Sepal.Width  Petal.Length Petal.Width  Species     \n",
            "<0 rows> (or 0-length row.names)\n"
          ]
        }
      ]
    },
    {
      "cell_type": "code",
      "source": [
        "%%R\n",
        "subset(data, Sepal.Length==5.1)"
      ],
      "metadata": {
        "colab": {
          "base_uri": "https://localhost:8080/"
        },
        "id": "6GAAjpGv2x9m",
        "outputId": "e19215a9-ce81-4424-c348-c8d9fd481597"
      },
      "execution_count": 9,
      "outputs": [
        {
          "output_type": "stream",
          "name": "stdout",
          "text": [
            "   Sepal.Length Sepal.Width Petal.Length Petal.Width    Species\n",
            "1           5.1         3.5          1.4         0.2     setosa\n",
            "18          5.1         3.5          1.4         0.3     setosa\n",
            "20          5.1         3.8          1.5         0.3     setosa\n",
            "22          5.1         3.7          1.5         0.4     setosa\n",
            "24          5.1         3.3          1.7         0.5     setosa\n",
            "40          5.1         3.4          1.5         0.2     setosa\n",
            "45          5.1         3.8          1.9         0.4     setosa\n",
            "47          5.1         3.8          1.6         0.2     setosa\n",
            "99          5.1         2.5          3.0         1.1 versicolor\n"
          ]
        }
      ]
    },
    {
      "cell_type": "code",
      "source": [
        "%%R\n",
        "subset(data,Sepal.Width==2.5 )"
      ],
      "metadata": {
        "colab": {
          "base_uri": "https://localhost:8080/"
        },
        "id": "HRdBEIZv3Veo",
        "outputId": "6b096f41-64f8-418f-d5ee-094856518e9b"
      },
      "execution_count": 11,
      "outputs": [
        {
          "output_type": "stream",
          "name": "stdout",
          "text": [
            "    Sepal.Length Sepal.Width Petal.Length Petal.Width    Species\n",
            "70           5.6         2.5          3.9         1.1 versicolor\n",
            "73           6.3         2.5          4.9         1.5 versicolor\n",
            "90           5.5         2.5          4.0         1.3 versicolor\n",
            "99           5.1         2.5          3.0         1.1 versicolor\n",
            "107          4.9         2.5          4.5         1.7  virginica\n",
            "109          6.7         2.5          5.8         1.8  virginica\n",
            "114          5.7         2.5          5.0         2.0  virginica\n",
            "147          6.3         2.5          5.0         1.9  virginica\n"
          ]
        }
      ]
    },
    {
      "cell_type": "code",
      "source": [
        "%%R\n",
        "subset(data,Species==\"versicolor\")"
      ],
      "metadata": {
        "colab": {
          "base_uri": "https://localhost:8080/"
        },
        "id": "cbxlaigB3kvr",
        "outputId": "73e21f11-95e5-40bb-db8c-4d56585d92ab"
      },
      "execution_count": 13,
      "outputs": [
        {
          "output_type": "stream",
          "name": "stdout",
          "text": [
            "    Sepal.Length Sepal.Width Petal.Length Petal.Width    Species\n",
            "51           7.0         3.2          4.7         1.4 versicolor\n",
            "52           6.4         3.2          4.5         1.5 versicolor\n",
            "53           6.9         3.1          4.9         1.5 versicolor\n",
            "54           5.5         2.3          4.0         1.3 versicolor\n",
            "55           6.5         2.8          4.6         1.5 versicolor\n",
            "56           5.7         2.8          4.5         1.3 versicolor\n",
            "57           6.3         3.3          4.7         1.6 versicolor\n",
            "58           4.9         2.4          3.3         1.0 versicolor\n",
            "59           6.6         2.9          4.6         1.3 versicolor\n",
            "60           5.2         2.7          3.9         1.4 versicolor\n",
            "61           5.0         2.0          3.5         1.0 versicolor\n",
            "62           5.9         3.0          4.2         1.5 versicolor\n",
            "63           6.0         2.2          4.0         1.0 versicolor\n",
            "64           6.1         2.9          4.7         1.4 versicolor\n",
            "65           5.6         2.9          3.6         1.3 versicolor\n",
            "66           6.7         3.1          4.4         1.4 versicolor\n",
            "67           5.6         3.0          4.5         1.5 versicolor\n",
            "68           5.8         2.7          4.1         1.0 versicolor\n",
            "69           6.2         2.2          4.5         1.5 versicolor\n",
            "70           5.6         2.5          3.9         1.1 versicolor\n",
            "71           5.9         3.2          4.8         1.8 versicolor\n",
            "72           6.1         2.8          4.0         1.3 versicolor\n",
            "73           6.3         2.5          4.9         1.5 versicolor\n",
            "74           6.1         2.8          4.7         1.2 versicolor\n",
            "75           6.4         2.9          4.3         1.3 versicolor\n",
            "76           6.6         3.0          4.4         1.4 versicolor\n",
            "77           6.8         2.8          4.8         1.4 versicolor\n",
            "78           6.7         3.0          5.0         1.7 versicolor\n",
            "79           6.0         2.9          4.5         1.5 versicolor\n",
            "80           5.7         2.6          3.5         1.0 versicolor\n",
            "81           5.5         2.4          3.8         1.1 versicolor\n",
            "82           5.5         2.4          3.7         1.0 versicolor\n",
            "83           5.8         2.7          3.9         1.2 versicolor\n",
            "84           6.0         2.7          5.1         1.6 versicolor\n",
            "85           5.4         3.0          4.5         1.5 versicolor\n",
            "86           6.0         3.4          4.5         1.6 versicolor\n",
            "87           6.7         3.1          4.7         1.5 versicolor\n",
            "88           6.3         2.3          4.4         1.3 versicolor\n",
            "89           5.6         3.0          4.1         1.3 versicolor\n",
            "90           5.5         2.5          4.0         1.3 versicolor\n",
            "91           5.5         2.6          4.4         1.2 versicolor\n",
            "92           6.1         3.0          4.6         1.4 versicolor\n",
            "93           5.8         2.6          4.0         1.2 versicolor\n",
            "94           5.0         2.3          3.3         1.0 versicolor\n",
            "95           5.6         2.7          4.2         1.3 versicolor\n",
            "96           5.7         3.0          4.2         1.2 versicolor\n",
            "97           5.7         2.9          4.2         1.3 versicolor\n",
            "98           6.2         2.9          4.3         1.3 versicolor\n",
            "99           5.1         2.5          3.0         1.1 versicolor\n",
            "100          5.7         2.8          4.1         1.3 versicolor\n"
          ]
        }
      ]
    },
    {
      "cell_type": "code",
      "source": [
        "%%R\n",
        "agg_sum= aggregate (iris[.1:4],by=list(iris$Species),FUN=sum,na.rm=TRUE)\n",
        "print(agg_sum)"
      ],
      "metadata": {
        "colab": {
          "base_uri": "https://localhost:8080/"
        },
        "id": "Hf2mVWxy36fd",
        "outputId": "d72600f4-9b45-44b2-adf5-52ce0935a5d2"
      },
      "execution_count": 17,
      "outputs": [
        {
          "output_type": "stream",
          "name": "stdout",
          "text": [
            "     Group.1 Sepal.Length Sepal.Width Petal.Length\n",
            "1     setosa        250.3       171.4         73.1\n",
            "2 versicolor        296.8       138.5        213.0\n",
            "3  virginica        329.4       148.7        277.6\n"
          ]
        }
      ]
    },
    {
      "cell_type": "code",
      "source": [
        "%%R\n",
        "agg_mean= aggregate (iris[.1:4],by=list(iris$Species),FUN=mean,na.rm=TRUE)\n",
        "print(agg_mean)"
      ],
      "metadata": {
        "colab": {
          "base_uri": "https://localhost:8080/"
        },
        "id": "QuWJNkbD4WQP",
        "outputId": "4df56ce1-3062-4635-cf6c-7daf54844cfd"
      },
      "execution_count": 18,
      "outputs": [
        {
          "output_type": "stream",
          "name": "stdout",
          "text": [
            "     Group.1 Sepal.Length Sepal.Width Petal.Length\n",
            "1     setosa        5.006       3.428        1.462\n",
            "2 versicolor        5.936       2.770        4.260\n",
            "3  virginica        6.588       2.974        5.552\n"
          ]
        }
      ]
    },
    {
      "cell_type": "code",
      "source": [
        "%%R\n",
        "agg_max = aggregate (iris[.1:4],by=list(iris$Species),FUN=max,na.rm=TRUE)\n",
        "print(agg_max)"
      ],
      "metadata": {
        "colab": {
          "base_uri": "https://localhost:8080/"
        },
        "id": "AlkpYCd_6sT9",
        "outputId": "30d8104c-fa3d-4cc9-8510-f7dec25b4a25"
      },
      "execution_count": 20,
      "outputs": [
        {
          "output_type": "stream",
          "name": "stdout",
          "text": [
            "     Group.1 Sepal.Length Sepal.Width Petal.Length\n",
            "1     setosa          5.8         4.4          1.9\n",
            "2 versicolor          7.0         3.4          5.1\n",
            "3  virginica          7.9         3.8          6.9\n"
          ]
        }
      ]
    }
  ]
}