{
  "nbformat": 4,
  "nbformat_minor": 0,
  "metadata": {
    "colab": {
      "name": "Miscellaneous Operators",
      "provenance": [],
      "authorship_tag": "ABX9TyNpCqmjEICTE/iGZnqHqgkC",
      "include_colab_link": true
    },
    "kernelspec": {
      "name": "python3",
      "display_name": "Python 3"
    },
    "language_info": {
      "name": "python"
    }
  },
  "cells": [
    {
      "cell_type": "markdown",
      "metadata": {
        "id": "view-in-github",
        "colab_type": "text"
      },
      "source": [
        "<a href=\"https://colab.research.google.com/github/harini1703/R-programming-Lab-Exercise/blob/main/Miscellaneous_Operators.ipynb\" target=\"_parent\"><img src=\"https://colab.research.google.com/assets/colab-badge.svg\" alt=\"Open In Colab\"/></a>"
      ]
    },
    {
      "cell_type": "code",
      "execution_count": 1,
      "metadata": {
        "id": "wt7gHBW2ISIC"
      },
      "outputs": [],
      "source": [
        "%load_ext rpy2.ipython"
      ]
    },
    {
      "cell_type": "markdown",
      "source": [
        "Peforming miscellaneous operation that's %in% Operator \n",
        " \n",
        "  1.This operator checks the whether the values is present in list ,if its present it return Boolean TRUE VALUE"
      ],
      "metadata": {
        "id": "n0mvuRH1IxSC"
      }
    },
    {
      "cell_type": "code",
      "source": [
        "%%R\n",
        "list1<-c(0.1,TRUE,8)\n",
        "list2<-c(0.2,FALSE,9+6i)\n",
        "print(list1%in%list2)"
      ],
      "metadata": {
        "colab": {
          "base_uri": "https://localhost:8080/"
        },
        "id": "cHgSmI3WImuA",
        "outputId": "4cf0ac08-3a9c-432f-8c30-2fab7a1de7e9"
      },
      "execution_count": 2,
      "outputs": [
        {
          "output_type": "stream",
          "name": "stdout",
          "text": [
            "[1] FALSE FALSE FALSE\n"
          ]
        }
      ]
    },
    {
      "cell_type": "code",
      "source": [
        "%%R\n",
        "list1<-c(0.1,TRUE,8)\n",
        "list2<-c(0.1,FALSE,9+6i)\n",
        "print(list1%in%list2)"
      ],
      "metadata": {
        "colab": {
          "base_uri": "https://localhost:8080/"
        },
        "id": "BWSA1swJJc45",
        "outputId": "3cb5fc6f-780b-4505-b6a1-0b0d9f17fe98"
      },
      "execution_count": 3,
      "outputs": [
        {
          "output_type": "stream",
          "name": "stdout",
          "text": [
            "[1]  TRUE FALSE FALSE\n"
          ]
        }
      ]
    },
    {
      "cell_type": "markdown",
      "source": [
        "COLON OPERATOR:\n",
        "\n",
        "  1.Its prints the list of elements\n",
        "\n",
        "\n",
        "\n"
      ],
      "metadata": {
        "id": "ZDEEHr7pJyCq"
      }
    },
    {
      "cell_type": "code",
      "source": [
        "%%R\n",
        "print(1:10)"
      ],
      "metadata": {
        "colab": {
          "base_uri": "https://localhost:8080/"
        },
        "id": "aeyXg65nJjBh",
        "outputId": "9c701c79-bc1d-4bd6-c5e5-a86dbec911ec"
      },
      "execution_count": 4,
      "outputs": [
        {
          "output_type": "stream",
          "name": "stdout",
          "text": [
            " [1]  1  2  3  4  5  6  7  8  9 10\n"
          ]
        }
      ]
    },
    {
      "cell_type": "code",
      "source": [
        "%%R\n",
        "print(20:100)\n"
      ],
      "metadata": {
        "colab": {
          "base_uri": "https://localhost:8080/"
        },
        "id": "exHYK3EgJ-Rm",
        "outputId": "16928dcf-fa60-4949-a5e7-cd112d874b78"
      },
      "execution_count": 5,
      "outputs": [
        {
          "output_type": "stream",
          "name": "stdout",
          "text": [
            " [1]  20  21  22  23  24  25  26  27  28  29  30  31  32  33  34  35  36  37  38\n",
            "[20]  39  40  41  42  43  44  45  46  47  48  49  50  51  52  53  54  55  56  57\n",
            "[39]  58  59  60  61  62  63  64  65  66  67  68  69  70  71  72  73  74  75  76\n",
            "[58]  77  78  79  80  81  82  83  84  85  86  87  88  89  90  91  92  93  94  95\n",
            "[77]  96  97  98  99 100\n"
          ]
        }
      ]
    },
    {
      "cell_type": "code",
      "source": [
        ""
      ],
      "metadata": {
        "id": "izQowh5ZKCcC"
      },
      "execution_count": null,
      "outputs": []
    }
  ]
}