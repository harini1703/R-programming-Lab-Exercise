{
  "nbformat": 4,
  "nbformat_minor": 0,
  "metadata": {
    "colab": {
      "name": "Logical Operators",
      "provenance": [],
      "authorship_tag": "ABX9TyOswD5uPEUf9p+iPQE7JyXu",
      "include_colab_link": true
    },
    "kernelspec": {
      "name": "python3",
      "display_name": "Python 3"
    },
    "language_info": {
      "name": "python"
    }
  },
  "cells": [
    {
      "cell_type": "markdown",
      "metadata": {
        "id": "view-in-github",
        "colab_type": "text"
      },
      "source": [
        "<a href=\"https://colab.research.google.com/github/harini1703/R-programming-Lab-Exercise/blob/main/Logical_Operators.ipynb\" target=\"_parent\"><img src=\"https://colab.research.google.com/assets/colab-badge.svg\" alt=\"Open In Colab\"/></a>"
      ]
    },
    {
      "cell_type": "code",
      "execution_count": 29,
      "metadata": {
        "colab": {
          "base_uri": "https://localhost:8080/"
        },
        "id": "5Lh-rihTXh6G",
        "outputId": "d0eb2a7f-1440-4526-9c86-24d7cb6c0410"
      },
      "outputs": [
        {
          "output_type": "stream",
          "name": "stdout",
          "text": [
            "The rpy2.ipython extension is already loaded. To reload it, use:\n",
            "  %reload_ext rpy2.ipython\n"
          ]
        }
      ],
      "source": [
        "%load_ext rpy2.ipython"
      ]
    },
    {
      "cell_type": "markdown",
      "source": [
        "Peforming Element-wise Logical AND operator.\n",
        " 1. It returns TRUE if both elements are TRUE"
      ],
      "metadata": {
        "id": "Nbkf2GZyX1-7"
      }
    },
    {
      "cell_type": "code",
      "source": [
        "%%R\n",
        "a<-c(TRUE,2+3i,1)\n",
        "b<-c(0,3+5i,FALSE)\n",
        "print(a&b)\n"
      ],
      "metadata": {
        "colab": {
          "base_uri": "https://localhost:8080/"
        },
        "id": "29Z605vCXtaN",
        "outputId": "5bae48eb-d80c-43ca-a880-b6da5732cf1b"
      },
      "execution_count": 30,
      "outputs": [
        {
          "output_type": "stream",
          "name": "stdout",
          "text": [
            "[1] FALSE  TRUE FALSE\n"
          ]
        }
      ]
    },
    {
      "cell_type": "code",
      "source": [
        "%%R\n",
        "a<-c(TRUE,2,8+8i)\n",
        "b<-c(0,3+5i,FALSE)\n",
        "print(a&b)"
      ],
      "metadata": {
        "colab": {
          "base_uri": "https://localhost:8080/"
        },
        "id": "ah1ns4KYYJR7",
        "outputId": "6fa18254-ca03-4e34-9320-a73595daeae1"
      },
      "execution_count": 31,
      "outputs": [
        {
          "output_type": "stream",
          "name": "stdout",
          "text": [
            "[1] FALSE  TRUE FALSE\n"
          ]
        }
      ]
    },
    {
      "cell_type": "markdown",
      "source": [
        "Peforming Logical AND operator \n",
        " 1.Returns True if both the first elements of the operands are True."
      ],
      "metadata": {
        "id": "Ju0Y1fl-Y6Bf"
      }
    },
    {
      "cell_type": "code",
      "source": [
        "%%R\n",
        "list1<-c(TRUE,8+5i,8,4)\n",
        "list2<-c(TRUE,5+5i,5,9+7i)\n",
        "print(list1&&list2)"
      ],
      "metadata": {
        "colab": {
          "base_uri": "https://localhost:8080/"
        },
        "id": "dXpdE-_bYjb_",
        "outputId": "4a95f6a1-e940-43eb-ddda-5e6ba0d938fc"
      },
      "execution_count": 32,
      "outputs": [
        {
          "output_type": "stream",
          "name": "stdout",
          "text": [
            "[1] TRUE\n"
          ]
        }
      ]
    },
    {
      "cell_type": "markdown",
      "source": [
        "Peforming Elementwise- Logical OR operator. \n",
        "  \n",
        "  1.It returns TRUE if one of the statement is TRUE"
      ],
      "metadata": {
        "id": "hXAkQC6las73"
      }
    },
    {
      "cell_type": "code",
      "source": [
        "%%R\n",
        "list1<-c(TRUE,8+5i,8,4)\n",
        "list2<-c(FALSE,5+5i,5,9+7i)\n",
        "print(list1|list2)"
      ],
      "metadata": {
        "colab": {
          "base_uri": "https://localhost:8080/"
        },
        "id": "jp3IiQf0aoDE",
        "outputId": "4238aa94-c9aa-4923-f631-ed440a02ec1a"
      },
      "execution_count": 33,
      "outputs": [
        {
          "output_type": "stream",
          "name": "stdout",
          "text": [
            "[1] TRUE TRUE TRUE TRUE\n"
          ]
        }
      ]
    },
    {
      "cell_type": "code",
      "source": [
        "%%R\n",
        "list1<-c(TRUE,8+5i,8,4)\n",
        "list2<-c(TRUE,5+5i,5,9+7i)\n",
        "print(list1|list2)"
      ],
      "metadata": {
        "colab": {
          "base_uri": "https://localhost:8080/"
        },
        "id": "MRzYiIP7bD5y",
        "outputId": "dfbdc835-4d76-436a-a8af-63e3b138d07b"
      },
      "execution_count": 34,
      "outputs": [
        {
          "output_type": "stream",
          "name": "stdout",
          "text": [
            "[1] TRUE TRUE TRUE TRUE\n"
          ]
        }
      ]
    },
    {
      "cell_type": "markdown",
      "source": [
        "Peforming Logical NOT - \n",
        "  \n",
        "  1.returns FALSE if statement is TRUE"
      ],
      "metadata": {
        "id": "rtnckx-Hcif1"
      }
    },
    {
      "cell_type": "code",
      "source": [
        "%%R\n",
        "list1 <- c(1,TRUE)\n",
        "print(!list1)    "
      ],
      "metadata": {
        "colab": {
          "base_uri": "https://localhost:8080/"
        },
        "id": "EyCnie-LdLR1",
        "outputId": "e9b48901-436a-4875-8428-4420d55a0e25"
      },
      "execution_count": 38,
      "outputs": [
        {
          "output_type": "stream",
          "name": "stdout",
          "text": [
            "[1] FALSE FALSE\n"
          ]
        }
      ]
    },
    {
      "cell_type": "code",
      "source": [
        "%%R\n",
        "list1 <- c(0,FALSE)\n",
        "print(!list1)    "
      ],
      "metadata": {
        "colab": {
          "base_uri": "https://localhost:8080/"
        },
        "id": "O7XgWoRRdn18",
        "outputId": "1e083929-7fa9-4e22-a4c5-c9c6de78d1a2"
      },
      "execution_count": 39,
      "outputs": [
        {
          "output_type": "stream",
          "name": "stdout",
          "text": [
            "[1] TRUE TRUE\n"
          ]
        }
      ]
    }
  ]
}