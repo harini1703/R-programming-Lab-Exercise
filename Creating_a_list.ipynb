{
  "nbformat": 4,
  "nbformat_minor": 0,
  "metadata": {
    "colab": {
      "name": "Creating a list",
      "provenance": [],
      "collapsed_sections": [],
      "authorship_tag": "ABX9TyMUSQOLzHkQ1Zs1g2HUsOIm",
      "include_colab_link": true
    },
    "kernelspec": {
      "name": "python3",
      "display_name": "Python 3"
    },
    "language_info": {
      "name": "python"
    }
  },
  "cells": [
    {
      "cell_type": "markdown",
      "metadata": {
        "id": "view-in-github",
        "colab_type": "text"
      },
      "source": [
        "<a href=\"https://colab.research.google.com/github/harini1703/R-programming-Lab-Exercise/blob/main/Creating_a_list.ipynb\" target=\"_parent\"><img src=\"https://colab.research.google.com/assets/colab-badge.svg\" alt=\"Open In Colab\"/></a>"
      ]
    },
    {
      "cell_type": "code",
      "execution_count": 1,
      "metadata": {
        "id": "u_T23fZOKEDX"
      },
      "outputs": [],
      "source": [
        "%load_ext rpy2.ipython"
      ]
    },
    {
      "cell_type": "code",
      "source": [
        "%%R\n",
        "list_data1<-list(\"Harini\",\"varman\",89,5+9i,TRUE)\n",
        "print(list_data1)"
      ],
      "metadata": {
        "colab": {
          "base_uri": "https://localhost:8080/"
        },
        "id": "FdurEWvDKR4Q",
        "outputId": "1b7b327e-bd32-4d38-82fb-7cd84e9cb974"
      },
      "execution_count": 3,
      "outputs": [
        {
          "output_type": "stream",
          "name": "stdout",
          "text": [
            "[[1]]\n",
            "[1] \"Harini\"\n",
            "\n",
            "[[2]]\n",
            "[1] \"varman\"\n",
            "\n",
            "[[3]]\n",
            "[1] 89\n",
            "\n",
            "[[4]]\n",
            "[1] 5+9i\n",
            "\n",
            "[[5]]\n",
            "[1] TRUE\n",
            "\n"
          ]
        }
      ]
    },
    {
      "cell_type": "code",
      "source": [
        "%%R\n",
        "list_data <- list(c(\"Jan\",\"Feb\",\"Mar\"), matrix(c(3,9,5,1,-2,8), nrow = 2),list(\"green\",12.3))\n",
        "print(list_data)\n",
        "  "
      ],
      "metadata": {
        "colab": {
          "base_uri": "https://localhost:8080/"
        },
        "id": "EHgOgtpoKR7A",
        "outputId": "f02712ee-b79f-4dac-fb6d-a0dce5c79ace"
      },
      "execution_count": 5,
      "outputs": [
        {
          "output_type": "stream",
          "name": "stdout",
          "text": [
            "[[1]]\n",
            "[1] \"Jan\" \"Feb\" \"Mar\"\n",
            "\n",
            "[[2]]\n",
            "     [,1] [,2] [,3]\n",
            "[1,]    3    5   -2\n",
            "[2,]    9    1    8\n",
            "\n",
            "[[3]]\n",
            "[[3]][[1]]\n",
            "[1] \"green\"\n",
            "\n",
            "[[3]][[2]]\n",
            "[1] 12.3\n",
            "\n",
            "\n"
          ]
        }
      ]
    },
    {
      "cell_type": "code",
      "source": [
        "%%R\n",
        "names(list_data) <- c(\"1st section\", \"Matrix\", \"Inner\")\n",
        "print(list_data)"
      ],
      "metadata": {
        "colab": {
          "base_uri": "https://localhost:8080/"
        },
        "id": "TLCKYrFoKR99",
        "outputId": "7aa5d9bf-4fd3-4da9-c325-0da571175878"
      },
      "execution_count": 8,
      "outputs": [
        {
          "output_type": "stream",
          "name": "stdout",
          "text": [
            "$`1st section`\n",
            "[1] \"Jan\" \"Feb\" \"Mar\"\n",
            "\n",
            "$Matrix\n",
            "     [,1] [,2] [,3]\n",
            "[1,]    3    5   -2\n",
            "[2,]    9    1    8\n",
            "\n",
            "$Inner\n",
            "$Inner[[1]]\n",
            "[1] \"green\"\n",
            "\n",
            "$Inner[[2]]\n",
            "[1] 12.3\n",
            "\n",
            "\n"
          ]
        }
      ]
    },
    {
      "cell_type": "code",
      "source": [
        "%%R\n",
        "list_data2=list(c(8,6,78,90),matrix(c(8,6,89,56,45)))\n",
        "print(list_data2)"
      ],
      "metadata": {
        "colab": {
          "base_uri": "https://localhost:8080/"
        },
        "id": "X1OWWZuLKSBg",
        "outputId": "7750057b-61e4-4aeb-9546-45c9633973c8"
      },
      "execution_count": 11,
      "outputs": [
        {
          "output_type": "stream",
          "name": "stdout",
          "text": [
            "[[1]]\n",
            "[1]  8  6 78 90\n",
            "\n",
            "[[2]]\n",
            "     [,1]\n",
            "[1,]    8\n",
            "[2,]    6\n",
            "[3,]   89\n",
            "[4,]   56\n",
            "[5,]   45\n",
            "\n"
          ]
        }
      ]
    },
    {
      "cell_type": "code",
      "source": [
        "%%R\n",
        "names(list_data2)=list(c(\"numbers\",\"matrix\"))\n",
        "print(list_data2)"
      ],
      "metadata": {
        "colab": {
          "base_uri": "https://localhost:8080/"
        },
        "id": "SoA0eIywMu_k",
        "outputId": "9885bea8-f36d-49a8-aab4-5748beec742d"
      },
      "execution_count": 15,
      "outputs": [
        {
          "output_type": "stream",
          "name": "stdout",
          "text": [
            "$`c(\"numbers\", \"matrix\")`\n",
            "[1]  8  6 78 90\n",
            "\n",
            "$<NA>\n",
            "     [,1]\n",
            "[1,]    8\n",
            "[2,]    6\n",
            "[3,]   89\n",
            "[4,]   56\n",
            "[5,]   45\n",
            "\n"
          ]
        }
      ]
    },
    {
      "cell_type": "code",
      "source": [
        "%%R\n",
        "print(list_data2[1])"
      ],
      "metadata": {
        "colab": {
          "base_uri": "https://localhost:8080/"
        },
        "id": "dok_b04cNP1t",
        "outputId": "749422d4-40d8-48f0-ac14-d0b43066123a"
      },
      "execution_count": 17,
      "outputs": [
        {
          "output_type": "stream",
          "name": "stdout",
          "text": [
            "$`c(\"numbers\", \"matrix\")`\n",
            "[1]  8  6 78 90\n",
            "\n"
          ]
        }
      ]
    },
    {
      "cell_type": "code",
      "source": [
        "%%R\n",
        "print(list_data2[2])"
      ],
      "metadata": {
        "colab": {
          "base_uri": "https://localhost:8080/"
        },
        "id": "cuPGyCUONf_R",
        "outputId": "832f30ab-796e-46de-baac-0dac55cb90be"
      },
      "execution_count": 18,
      "outputs": [
        {
          "output_type": "stream",
          "name": "stdout",
          "text": [
            "$<NA>\n",
            "     [,1]\n",
            "[1,]    8\n",
            "[2,]    6\n",
            "[3,]   89\n",
            "[4,]   56\n",
            "[5,]   45\n",
            "\n"
          ]
        }
      ]
    },
    {
      "cell_type": "code",
      "source": [
        "%%R\n",
        "list_data3=list(c(89,96,85,45),matrix(c(81,96,45,78,56,23),nrow=2))\n",
        "print(list_data3)\n"
      ],
      "metadata": {
        "colab": {
          "base_uri": "https://localhost:8080/"
        },
        "id": "k5zKMl3aVqDx",
        "outputId": "d873a7c2-c6d2-4e40-a8e3-3c7fb012e860"
      },
      "execution_count": 21,
      "outputs": [
        {
          "output_type": "stream",
          "name": "stdout",
          "text": [
            "[[1]]\n",
            "[1] 89 96 85 45\n",
            "\n",
            "[[2]]\n",
            "     [,1] [,2] [,3]\n",
            "[1,]   81   45   56\n",
            "[2,]   96   78   23\n",
            "\n"
          ]
        }
      ]
    },
    {
      "cell_type": "code",
      "source": [
        "%%R\n",
        "list_data3[4] <- \"Harini\"\n",
        "print(list_data[4])"
      ],
      "metadata": {
        "colab": {
          "base_uri": "https://localhost:8080/"
        },
        "id": "wW306nfzWURZ",
        "outputId": "f3134f1a-af3d-4829-c951-46e0f3b34b9c"
      },
      "execution_count": 23,
      "outputs": [
        {
          "output_type": "stream",
          "name": "stdout",
          "text": [
            "$<NA>\n",
            "NULL\n",
            "\n"
          ]
        }
      ]
    },
    {
      "cell_type": "code",
      "source": [
        "%%R\n",
        "A<-list(c(12,12,TRUE,8+8i))\n",
        "B<-list(c(78,45,FALSE,9+9i))\n",
        "merged.list<-c(A,B)\n",
        "print(merged.list)"
      ],
      "metadata": {
        "colab": {
          "base_uri": "https://localhost:8080/"
        },
        "id": "_k0RVjdxjIHW",
        "outputId": "b0fe02da-0e8c-4250-e35b-e2e713083fb2"
      },
      "execution_count": 26,
      "outputs": [
        {
          "output_type": "stream",
          "name": "stdout",
          "text": [
            "[[1]]\n",
            "[1] 12+0i 12+0i  1+0i  8+8i\n",
            "\n",
            "[[2]]\n",
            "[1] 78+0i 45+0i  0+0i  9+9i\n",
            "\n"
          ]
        }
      ]
    },
    {
      "cell_type": "code",
      "source": [
        ""
      ],
      "metadata": {
        "id": "quT9wXsOj2QK"
      },
      "execution_count": null,
      "outputs": []
    }
  ]
}